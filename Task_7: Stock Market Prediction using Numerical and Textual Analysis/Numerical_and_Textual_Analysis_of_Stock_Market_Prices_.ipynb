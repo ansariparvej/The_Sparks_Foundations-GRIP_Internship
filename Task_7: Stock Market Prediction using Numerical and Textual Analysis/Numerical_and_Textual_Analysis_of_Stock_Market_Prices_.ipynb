{
 "cells": [
  {
   "cell_type": "markdown",
   "metadata": {},
   "source": [
    "# Stock Market Prediction using Numerical and Textual Analysis\n",
    "\n",
    "● Objective: Create a hybrid model for stock price/performance prediction using numerical analysis of historical stock prices, and sentimental analysis of news headlines\n",
    "\n",
    "● Stock to analyze and predict - SENSEX (S&P BSE SENSEX)\n",
    "\n",
    "● Download historical stock prices from finance.yahoo.com"
   ]
  },
  {
   "cell_type": "markdown",
   "metadata": {},
   "source": [
    "**I have used Auto-ARIMA model to make stock market prices predictions using the historical stock prices data. In the sentiment analysis model, I have made use of different machine learning algorithms-Random Forest Regressor, LightGBM, Adaboost and Xgboost- to make the predictions.**"
   ]
  },
  {
   "cell_type": "code",
   "execution_count": 2,
   "metadata": {
    "colab": {
     "base_uri": "https://localhost:8080/",
     "height": 72,
     "resources": {
      "http://localhost:8080/nbextensions/google.colab/files.js": {
       "data": "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",
       "headers": [
        [
         "content-type",
         "application/javascript"
        ]
       ],
       "ok": true,
       "status": 200,
       "status_text": ""
      }
     }
    },
    "id": "YALxi-d94FoI",
    "outputId": "5e6ad618-cba7-42e6-b47d-ed3a2e040544"
   },
   "outputs": [
    {
     "data": {
      "text/html": [
       "\n",
       "     <input type=\"file\" id=\"files-4decc145-d8c7-40bf-8e81-b8472dfcd585\" name=\"files[]\" multiple disabled\n",
       "        style=\"border:none\" />\n",
       "     <output id=\"result-4decc145-d8c7-40bf-8e81-b8472dfcd585\">\n",
       "      Upload widget is only available when the cell has been executed in the\n",
       "      current browser session. Please rerun this cell to enable.\n",
       "      </output>\n",
       "      <script src=\"/nbextensions/google.colab/files.js\"></script> "
      ],
      "text/plain": [
       "<IPython.core.display.HTML object>"
      ]
     },
     "metadata": {
      "tags": []
     },
     "output_type": "display_data"
    },
    {
     "name": "stdout",
     "output_type": "stream",
     "text": [
      "Saving BSESN.csv to BSESN.csv\n"
     ]
    }
   ],
   "source": [
    "from google.colab import files \n",
    "uploaded = files.upload()"
   ]
  },
  {
   "cell_type": "code",
   "execution_count": 1,
   "metadata": {
    "colab": {
     "base_uri": "https://localhost:8080/",
     "height": 72,
     "resources": {
      "http://localhost:8080/nbextensions/google.colab/files.js": {
       "data": "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",
       "headers": [
        [
         "content-type",
         "application/javascript"
        ]
       ],
       "ok": true,
       "status": 200,
       "status_text": ""
      }
     }
    },
    "id": "mwMAnaIz_Cf_",
    "outputId": "8eacfe0f-61ed-4e00-93a1-76fff278045c"
   },
   "outputs": [
    {
     "data": {
      "text/html": [
       "\n",
       "     <input type=\"file\" id=\"files-4b4c68e7-ad4b-4ded-999a-46941e273c4b\" name=\"files[]\" multiple disabled\n",
       "        style=\"border:none\" />\n",
       "     <output id=\"result-4b4c68e7-ad4b-4ded-999a-46941e273c4b\">\n",
       "      Upload widget is only available when the cell has been executed in the\n",
       "      current browser session. Please rerun this cell to enable.\n",
       "      </output>\n",
       "      <script src=\"/nbextensions/google.colab/files.js\"></script> "
      ],
      "text/plain": [
       "<IPython.core.display.HTML object>"
      ]
     },
     "metadata": {
      "tags": []
     },
     "output_type": "display_data"
    },
    {
     "name": "stdout",
     "output_type": "stream",
     "text": [
      "Saving india-news-headlines.csv to india-news-headlines.csv\n"
     ]
    }
   ],
   "source": [
    "from google.colab import files \n",
    "uploaded = files.upload()"
   ]
  },
  {
   "cell_type": "code",
   "execution_count": 43,
   "metadata": {
    "colab": {
     "base_uri": "https://localhost:8080/",
     "height": 85
    },
    "id": "KkPUVvNX8cyE",
    "outputId": "eba09c28-34e3-4da4-91f6-852de1cbd269"
   },
   "outputs": [
    {
     "name": "stdout",
     "output_type": "stream",
     "text": [
      "[nltk_data] Downloading package stopwords to /root/nltk_data...\n",
      "[nltk_data]   Package stopwords is already up-to-date!\n",
      "[nltk_data] Downloading package vader_lexicon to /root/nltk_data...\n",
      "[nltk_data]   Package vader_lexicon is already up-to-date!\n"
     ]
    }
   ],
   "source": [
    "import os\n",
    "import warnings\n",
    "warnings.filterwarnings('ignore')\n",
    "import pandas as pd\n",
    "import numpy as np\n",
    "import matplotlib.pyplot as plt\n",
    "import itertools\n",
    "from statsmodels.tsa.stattools import adfuller, acf, pacf\n",
    "from statsmodels.tsa.arima_model import ARIMA\n",
    "import nltk\n",
    "import re\n",
    "from nltk.corpus import stopwords\n",
    "nltk.download('stopwords')\n",
    "nltk.download('vader_lexicon')\n",
    "from textblob import TextBlob\n",
    "from nltk.sentiment.vader import SentimentIntensityAnalyzer\n",
    "from nltk.stem.porter import PorterStemmer\n",
    "from sklearn.metrics import mean_squared_error\n",
    "from sklearn.model_selection import train_test_split\n",
    "from sklearn.ensemble import RandomForestRegressor, AdaBoostRegressor\n",
    "import xgboost \n",
    "import lightgbm "
   ]
  },
  {
   "cell_type": "code",
   "execution_count": 17,
   "metadata": {
    "colab": {
     "base_uri": "https://localhost:8080/",
     "height": 701
    },
    "id": "1xRNMsEreplR",
    "outputId": "fe75939a-bfaa-4b44-d64b-30fac527216a"
   },
   "outputs": [
    {
     "name": "stdout",
     "output_type": "stream",
     "text": [
      "Collecting pmdarima\n",
      "\u001b[?25l  Downloading https://files.pythonhosted.org/packages/be/62/725b3b6ae0e56c77534de5a8139322e7b863ca53fd5bd6bd3b7de87d0c20/pmdarima-1.7.1-cp36-cp36m-manylinux1_x86_64.whl (1.5MB)\n",
      "\u001b[K     |████████████████████████████████| 1.5MB 2.4MB/s \n",
      "\u001b[?25hRequirement already satisfied: urllib3 in /usr/local/lib/python3.6/dist-packages (from pmdarima) (1.24.3)\n",
      "Requirement already satisfied: scipy>=1.3.2 in /usr/local/lib/python3.6/dist-packages (from pmdarima) (1.4.1)\n",
      "Collecting statsmodels<0.12,>=0.11\n",
      "\u001b[?25l  Downloading https://files.pythonhosted.org/packages/cb/83/540fd83238a18abe6c2d280fa8e489ac5fcefa1f370f0ca1acd16ae1b860/statsmodels-0.11.1-cp36-cp36m-manylinux1_x86_64.whl (8.7MB)\n",
      "\u001b[K     |████████████████████████████████| 8.7MB 6.9MB/s \n",
      "\u001b[?25hRequirement already satisfied: pandas>=0.19 in /usr/local/lib/python3.6/dist-packages (from pmdarima) (1.1.2)\n",
      "Requirement already satisfied: joblib>=0.11 in /usr/local/lib/python3.6/dist-packages (from pmdarima) (0.16.0)\n",
      "Requirement already satisfied: scikit-learn>=0.22 in /usr/local/lib/python3.6/dist-packages (from pmdarima) (0.22.2.post1)\n",
      "Collecting setuptools<50.0.0\n",
      "\u001b[?25l  Downloading https://files.pythonhosted.org/packages/c3/a9/5dc32465951cf4812e9e93b4ad2d314893c2fa6d5f66ce5c057af6e76d85/setuptools-49.6.0-py3-none-any.whl (803kB)\n",
      "\u001b[K     |████████████████████████████████| 808kB 47.9MB/s \n",
      "\u001b[?25hRequirement already satisfied: numpy>=1.17.3 in /usr/local/lib/python3.6/dist-packages (from pmdarima) (1.18.5)\n",
      "Collecting Cython<0.29.18,>=0.29\n",
      "\u001b[?25l  Downloading https://files.pythonhosted.org/packages/e7/d7/510ddef0248f3e1e91f9cc7e31c0f35f8954d0af92c5c3fd4c853e859ebe/Cython-0.29.17-cp36-cp36m-manylinux1_x86_64.whl (2.1MB)\n",
      "\u001b[K     |████████████████████████████████| 2.1MB 40.2MB/s \n",
      "\u001b[?25hRequirement already satisfied: patsy>=0.5 in /usr/local/lib/python3.6/dist-packages (from statsmodels<0.12,>=0.11->pmdarima) (0.5.1)\n",
      "Requirement already satisfied: python-dateutil>=2.7.3 in /usr/local/lib/python3.6/dist-packages (from pandas>=0.19->pmdarima) (2.8.1)\n",
      "Requirement already satisfied: pytz>=2017.2 in /usr/local/lib/python3.6/dist-packages (from pandas>=0.19->pmdarima) (2018.9)\n",
      "Requirement already satisfied: six in /usr/local/lib/python3.6/dist-packages (from patsy>=0.5->statsmodels<0.12,>=0.11->pmdarima) (1.15.0)\n",
      "\u001b[31mERROR: datascience 0.10.6 has requirement folium==0.2.1, but you'll have folium 0.8.3 which is incompatible.\u001b[0m\n",
      "Installing collected packages: statsmodels, setuptools, Cython, pmdarima\n",
      "  Found existing installation: statsmodels 0.10.2\n",
      "    Uninstalling statsmodels-0.10.2:\n",
      "      Successfully uninstalled statsmodels-0.10.2\n",
      "  Found existing installation: setuptools 50.3.0\n",
      "    Uninstalling setuptools-50.3.0:\n",
      "      Successfully uninstalled setuptools-50.3.0\n",
      "  Found existing installation: Cython 0.29.21\n",
      "    Uninstalling Cython-0.29.21:\n",
      "      Successfully uninstalled Cython-0.29.21\n",
      "Successfully installed Cython-0.29.17 pmdarima-1.7.1 setuptools-49.6.0 statsmodels-0.11.1\n"
     ]
    },
    {
     "data": {
      "application/vnd.colab-display-data+json": {
       "pip_warning": {
        "packages": [
         "pkg_resources",
         "statsmodels"
        ]
       }
      }
     },
     "metadata": {
      "tags": []
     },
     "output_type": "display_data"
    }
   ],
   "source": [
    "!pip install pmdarima"
   ]
  },
  {
   "cell_type": "markdown",
   "metadata": {
    "id": "PQEPCV-tZ-lJ"
   },
   "source": [
    "TIME SERIES ANALYSIS"
   ]
  },
  {
   "cell_type": "code",
   "execution_count": 2,
   "metadata": {
    "colab": {
     "base_uri": "https://localhost:8080/",
     "height": 170
    },
    "id": "v7tRx9Yz8rUT",
    "outputId": "a1ecec19-5a82-4472-9f9d-e8e82812bd6f"
   },
   "outputs": [
    {
     "name": "stdout",
     "output_type": "stream",
     "text": [
      "         Date          Open          High  ...         Close     Adj Close   Volume\n",
      "0  2015-01-02  27521.279297  27937.470703  ...  27887.900391  27887.900391   7400.0\n",
      "1  2015-01-05  27978.429688  28064.490234  ...  27842.320313  27842.320313   9200.0\n",
      "2  2015-01-06  27694.230469  27698.929688  ...  26987.460938  26987.460938  14100.0\n",
      "3  2015-01-07  26983.429688  27051.599609  ...  26908.820313  26908.820313  12200.0\n",
      "4  2015-01-08  27178.769531  27316.410156  ...  27274.710938  27274.710938   8200.0\n",
      "\n",
      "[5 rows x 7 columns]\n",
      "8596\n"
     ]
    }
   ],
   "source": [
    "df_prices = pd.read_csv('BSESN.csv')\n",
    "print(df_prices.head())\n",
    "print(df_prices.size)"
   ]
  },
  {
   "cell_type": "code",
   "execution_count": 3,
   "metadata": {
    "colab": {
     "base_uri": "https://localhost:8080/",
     "height": 255
    },
    "id": "cWlvGON28uJP",
    "outputId": "d04a14fc-7f09-47a3-9894-72fd6da680d0"
   },
   "outputs": [
    {
     "name": "stdout",
     "output_type": "stream",
     "text": [
      "<class 'pandas.core.frame.DataFrame'>\n",
      "RangeIndex: 1228 entries, 0 to 1227\n",
      "Data columns (total 7 columns):\n",
      " #   Column     Non-Null Count  Dtype         \n",
      "---  ------     --------------  -----         \n",
      " 0   Date       1228 non-null   datetime64[ns]\n",
      " 1   Open       1224 non-null   float64       \n",
      " 2   High       1224 non-null   float64       \n",
      " 3   Low        1224 non-null   float64       \n",
      " 4   Close      1224 non-null   float64       \n",
      " 5   Adj Close  1224 non-null   float64       \n",
      " 6   Volume     1224 non-null   float64       \n",
      "dtypes: datetime64[ns](1), float64(6)\n",
      "memory usage: 67.3 KB\n"
     ]
    }
   ],
   "source": [
    "#Converting Date column to datetime datatype\n",
    "df_prices['Date'] = pd.to_datetime(df_prices['Date'])\n",
    "df_prices.info()"
   ]
  },
  {
   "cell_type": "code",
   "execution_count": 4,
   "metadata": {
    "id": "LLeJDfJqeljf"
   },
   "outputs": [],
   "source": [
    "df_prices.dropna(inplace = True)"
   ]
  },
  {
   "cell_type": "code",
   "execution_count": 5,
   "metadata": {
    "colab": {
     "base_uri": "https://localhost:8080/",
     "height": 393
    },
    "id": "AN2mEP8b9Hhq",
    "outputId": "5caa7c33-e17c-44bb-ad42-f6163484f6e9"
   },
   "outputs": [
    {
     "data": {
      "text/plain": [
       "Text(0, 0.5, 'Close')"
      ]
     },
     "execution_count": 5,
     "metadata": {
      "tags": []
     },
     "output_type": "execute_result"
    },
    {
     "data": {
      "image/png": "[encoded data removed]",
      "text/plain": [
       "<Figure size 720x432 with 1 Axes>"
      ]
     },
     "metadata": {
      "needs_background": "light",
      "tags": []
     },
     "output_type": "display_data"
    }
   ],
   "source": [
    "plt.figure(figsize=(10, 6))\n",
    "df_prices['Close'].plot()\n",
    "plt.ylabel('Close')"
   ]
  },
  {
   "cell_type": "code",
   "execution_count": 6,
   "metadata": {
    "colab": {
     "base_uri": "https://localhost:8080/",
     "height": 391
    },
    "id": "7Rc5uD5791HV",
    "outputId": "ba7082a0-ef8f-429c-ddc8-939c6e926146"
   },
   "outputs": [
    {
     "data": {
      "text/plain": [
       "<matplotlib.legend.Legend at 0x7f22acd52320>"
      ]
     },
     "execution_count": 6,
     "metadata": {
      "tags": []
     },
     "output_type": "execute_result"
    },
    {
     "data": {
      "image/png": "[encoded data removed]",
      "text/plain": [
       "<Figure size 720x432 with 1 Axes>"
      ]
     },
     "metadata": {
      "needs_background": "light",
      "tags": []
     },
     "output_type": "display_data"
    }
   ],
   "source": [
    "#Plotting moving average\n",
    "close = df_prices['Close']\n",
    "ma = close.rolling(window = 50).mean()\n",
    "std = close.rolling(window = 50).std()\n",
    "\n",
    "plt.figure(figsize=(10, 6))\n",
    "df_prices['Close'].plot(color = 'b', label = 'Close')\n",
    "ma.plot(color = 'r', label = 'Rolling Mean')\n",
    "std.plot(label = 'Rolling Standard Deviation')\n",
    "plt.legend()"
   ]
  },
  {
   "cell_type": "code",
   "execution_count": 7,
   "metadata": {
    "colab": {
     "base_uri": "https://localhost:8080/",
     "height": 407
    },
    "id": "Nh8DfBr69-VR",
    "outputId": "477105ac-c895-4cee-85b7-fd5b72c62879"
   },
   "outputs": [
    {
     "data": {
      "text/plain": [
       "Text(0.5, 1.0, 'Returns')"
      ]
     },
     "execution_count": 7,
     "metadata": {
      "tags": []
     },
     "output_type": "execute_result"
    },
    {
     "data": {
      "image/png": "[encoded data removed]",
      "text/plain": [
       "<Figure size 720x432 with 1 Axes>"
      ]
     },
     "metadata": {
      "needs_background": "light",
      "tags": []
     },
     "output_type": "display_data"
    }
   ],
   "source": [
    "#Plotting returns\n",
    "returns = close / close.shift(1) - 1\n",
    "\n",
    "plt.figure(figsize = (10,6))\n",
    "returns.plot(label='Return', color = 'g')\n",
    "plt.title(\"Returns\")"
   ]
  },
  {
   "cell_type": "code",
   "execution_count": 73,
   "metadata": {
    "id": "qdIQZfYRWhVV"
   },
   "outputs": [],
   "source": [
    "train = df_prices[:1000]\n",
    "test = df_prices[1000:]"
   ]
  },
  {
   "cell_type": "code",
   "execution_count": 74,
   "metadata": {
    "colab": {
     "base_uri": "https://localhost:8080/",
     "height": 620
    },
    "id": "blcNOhntWmwI",
    "outputId": "d77d9958-d864-46d2-d728-1aabde76bfa3"
   },
   "outputs": [
    {
     "data": {
      "image/png": "[encoded data removed]",
      "text/plain": [
       "<Figure size 720x576 with 1 Axes>"
      ]
     },
     "metadata": {
      "needs_background": "light",
      "tags": []
     },
     "output_type": "display_data"
    },
    {
     "name": "stdout",
     "output_type": "stream",
     "text": [
      "Results of dickey fuller test\n",
      "ADF Test Statistic : -0.5913676380957044\n",
      "p-value : 0.8729206808204099\n",
      "#Lags Used : 1\n",
      "Number of Observations Used : 998\n",
      "Weak evidence against null hypothesis, time series is non-stationary \n"
     ]
    }
   ],
   "source": [
    "#Stationarity test\n",
    "def test_stationarity(timeseries):\n",
    "\n",
    " #Determing rolling statistics\n",
    " rolmean = timeseries.rolling(20).mean()\n",
    " rolstd = timeseries.rolling(20).std()\n",
    "\n",
    " #Plot rolling statistics:\n",
    " plt.figure(figsize = (10,8))\n",
    " plt.plot(timeseries, color = 'y', label = 'original')\n",
    " plt.plot(rolmean, color = 'r', label = 'rolling mean')\n",
    " plt.plot(rolstd, color = 'b', label = 'rolling std')\n",
    " plt.xlabel('Date')\n",
    " plt.legend()\n",
    " plt.title('Rolling Mean and Standard Deviation',  fontsize = 20)\n",
    " plt.show(block = False)\n",
    " \n",
    " print('Results of dickey fuller test')\n",
    " result = adfuller(timeseries, autolag = 'AIC')\n",
    " labels = ['ADF Test Statistic','p-value','#Lags Used','Number of Observations Used']\n",
    " for value,label in zip(result, labels):\n",
    "   print(label+' : '+str(value) )\n",
    " if result[1] <= 0.05:\n",
    "   print(\"Strong evidence against the null hypothesis(Ho), reject the null hypothesis. Data is stationary\")\n",
    " else:\n",
    "   print(\"Weak evidence against null hypothesis, time series is non-stationary \")\n",
    "test_stationarity(train['Close'])"
   ]
  },
  {
   "cell_type": "code",
   "execution_count": 75,
   "metadata": {
    "colab": {
     "base_uri": "https://localhost:8080/",
     "height": 391
    },
    "id": "jgQvUAFiWx4c",
    "outputId": "c107f408-25cf-4a74-aa5e-1b1efc32b1cb"
   },
   "outputs": [
    {
     "data": {
      "text/plain": [
       "[<matplotlib.lines.Line2D at 0x7f227873d128>]"
      ]
     },
     "execution_count": 75,
     "metadata": {
      "tags": []
     },
     "output_type": "execute_result"
    },
    {
     "data": {
      "image/png": "[encoded data removed]",
      "text/plain": [
       "<Figure size 720x432 with 1 Axes>"
      ]
     },
     "metadata": {
      "needs_background": "light",
      "tags": []
     },
     "output_type": "display_data"
    }
   ],
   "source": [
    "train_log = np.log(train['Close']) \n",
    "test_log = np.log(test['Close'])\n",
    "\n",
    "mav = train_log.rolling(24).mean() \n",
    "plt.figure(figsize = (10,6))\n",
    "plt.plot(train_log) \n",
    "plt.plot(mav, color = 'red') "
   ]
  },
  {
   "cell_type": "code",
   "execution_count": 76,
   "metadata": {
    "colab": {
     "base_uri": "https://localhost:8080/",
     "height": 620
    },
    "id": "g74WFepIW52z",
    "outputId": "c5f2b0ce-99e3-4c55-f38f-8e69a3ca395d"
   },
   "outputs": [
    {
     "data": {
      "image/png": "[encoded data removed]",
      "text/plain": [
       "<Figure size 720x576 with 1 Axes>"
      ]
     },
     "metadata": {
      "needs_background": "light",
      "tags": []
     },
     "output_type": "display_data"
    },
    {
     "name": "stdout",
     "output_type": "stream",
     "text": [
      "Results of dickey fuller test\n",
      "ADF Test Statistic : -0.5063496559707529\n",
      "p-value : 0.8907714361384154\n",
      "#Lags Used : 6\n",
      "Number of Observations Used : 993\n",
      "Weak evidence against null hypothesis, time series is non-stationary \n"
     ]
    }
   ],
   "source": [
    "train_log.dropna(inplace = True)\n",
    "test_log.dropna(inplace = True)\n",
    "\n",
    "test_stationarity(train_log)"
   ]
  },
  {
   "cell_type": "code",
   "execution_count": 77,
   "metadata": {
    "colab": {
     "base_uri": "https://localhost:8080/",
     "height": 620
    },
    "id": "vhGmsGKyXMiL",
    "outputId": "7c0a5b74-2607-4bb8-9d2b-40fbfe2a7e2f"
   },
   "outputs": [
    {
     "data": {
      "image/png": "[encoded data removed]",
      "text/plain": [
       "<Figure size 720x576 with 1 Axes>"
      ]
     },
     "metadata": {
      "needs_background": "light",
      "tags": []
     },
     "output_type": "display_data"
    },
    {
     "name": "stdout",
     "output_type": "stream",
     "text": [
      "Results of dickey fuller test\n",
      "ADF Test Statistic : -6.541831419968806\n",
      "p-value : 9.305308769625531e-09\n",
      "#Lags Used : 3\n",
      "Number of Observations Used : 973\n",
      "Strong evidence against the null hypothesis(Ho), reject the null hypothesis. Data is stationary\n"
     ]
    }
   ],
   "source": [
    "train_log_diff = train_log - mav\n",
    "train_log_diff.dropna(inplace = True)\n",
    "\n",
    "test_stationarity(train_log_diff)"
   ]
  },
  {
   "cell_type": "code",
   "execution_count": 78,
   "metadata": {
    "colab": {
     "base_uri": "https://localhost:8080/",
     "height": 306
    },
    "id": "EUASbpXkXZt8",
    "outputId": "b26d0507-9a35-438e-f112-7aa3305a2215"
   },
   "outputs": [
    {
     "name": "stdout",
     "output_type": "stream",
     "text": [
      "Performing stepwise search to minimize aic\n",
      " ARIMA(2,1,2)(0,0,0)[0] intercept   : AIC=-6695.839, Time=1.67 sec\n",
      " ARIMA(0,1,0)(0,0,0)[0] intercept   : AIC=-6700.141, Time=0.21 sec\n",
      " ARIMA(1,1,0)(0,0,0)[0] intercept   : AIC=-6701.586, Time=0.24 sec\n",
      " ARIMA(0,1,1)(0,0,0)[0] intercept   : AIC=-6701.681, Time=0.18 sec\n",
      " ARIMA(0,1,0)(0,0,0)[0]             : AIC=-6701.204, Time=0.05 sec\n",
      " ARIMA(1,1,1)(0,0,0)[0] intercept   : AIC=-6700.257, Time=0.81 sec\n",
      " ARIMA(0,1,2)(0,0,0)[0] intercept   : AIC=-6699.799, Time=0.97 sec\n",
      " ARIMA(1,1,2)(0,0,0)[0] intercept   : AIC=-6697.783, Time=0.62 sec\n",
      " ARIMA(0,1,1)(0,0,0)[0]             : AIC=-6702.851, Time=0.14 sec\n",
      " ARIMA(1,1,1)(0,0,0)[0]             : AIC=-6701.366, Time=0.23 sec\n",
      " ARIMA(0,1,2)(0,0,0)[0]             : AIC=-6700.941, Time=0.14 sec\n",
      " ARIMA(1,1,0)(0,0,0)[0]             : AIC=-6702.758, Time=0.12 sec\n",
      " ARIMA(1,1,2)(0,0,0)[0]             : AIC=-6698.902, Time=0.28 sec\n",
      "\n",
      "Best model:  ARIMA(0,1,1)(0,0,0)[0]          \n",
      "Total fit time: 5.692 seconds\n"
     ]
    }
   ],
   "source": [
    "#Using auto arima to make predictions using log data\n",
    "from pmdarima import auto_arima\n",
    "model = auto_arima(train_log, trace = True, error_action = 'ignore', suppress_warnings = True)\n",
    "model.fit(train_log)\n",
    "predictions = model.predict(n_periods = len(test))\n",
    "predictions = pd.DataFrame(predictions,index = test_log.index,columns=['Prediction'])"
   ]
  },
  {
   "cell_type": "code",
   "execution_count": 79,
   "metadata": {
    "colab": {
     "base_uri": "https://localhost:8080/",
     "height": 312
    },
    "id": "H9gLf_tNZa05",
    "outputId": "6b79f635-cdc6-4008-eb4d-bb200a955842"
   },
   "outputs": [
    {
     "data": {
      "text/plain": [
       "Text(0, 0.5, 'Actual Stock Price')"
      ]
     },
     "execution_count": 79,
     "metadata": {
      "tags": []
     },
     "output_type": "execute_result"
    },
    {
     "data": {
      "image/png": "[encoded data removed]",
      "text/plain": [
       "<Figure size 432x288 with 1 Axes>"
      ]
     },
     "metadata": {
      "needs_background": "light",
      "tags": []
     },
     "output_type": "display_data"
    }
   ],
   "source": [
    "plt.plot(train_log, label='Train')\n",
    "plt.plot(test_log, label='Test')\n",
    "plt.plot(predictions, label='Prediction')\n",
    "plt.title('BSESN Stock Price Prediction')\n",
    "plt.xlabel('Time')\n",
    "plt.ylabel('Actual Stock Price')"
   ]
  },
  {
   "cell_type": "code",
   "execution_count": 80,
   "metadata": {
    "colab": {
     "base_uri": "https://localhost:8080/",
     "height": 34
    },
    "id": "b4MVsxv8Zzov",
    "outputId": "a80c0c85-136a-400b-ca5a-4f6e11bbca91"
   },
   "outputs": [
    {
     "name": "stdout",
     "output_type": "stream",
     "text": [
      "RMSE :  0.0759730171376019\n"
     ]
    }
   ],
   "source": [
    "#Calculating error\n",
    "rms = np.sqrt(mean_squared_error(test_log,predictions))\n",
    "print(\"RMSE : \", rms)"
   ]
  },
  {
   "cell_type": "markdown",
   "metadata": {
    "id": "prGs9EPvZ6xN"
   },
   "source": [
    "## TEXTUAL ANALYSIS:"
   ]
  },
  {
   "cell_type": "code",
   "execution_count": 44,
   "metadata": {
    "colab": {
     "base_uri": "https://localhost:8080/",
     "height": 419
    },
    "id": "LJ5gRZOIccDu",
    "outputId": "b7f3d748-a960-4108-fd0f-21c7d0919097"
   },
   "outputs": [
    {
     "data": {
      "text/html": [
       "<div>\n",
       "<style scoped>\n",
       "    .dataframe tbody tr th:only-of-type {\n",
       "        vertical-align: middle;\n",
       "    }\n",
       "\n",
       "    .dataframe tbody tr th {\n",
       "        vertical-align: top;\n",
       "    }\n",
       "\n",
       "    .dataframe thead th {\n",
       "        text-align: right;\n",
       "    }\n",
       "</style>\n",
       "<table border=\"1\" class=\"dataframe\">\n",
       "  <thead>\n",
       "    <tr style=\"text-align: right;\">\n",
       "      <th></th>\n",
       "      <th>Date</th>\n",
       "      <th>Category</th>\n",
       "      <th>News</th>\n",
       "    </tr>\n",
       "  </thead>\n",
       "  <tbody>\n",
       "    <tr>\n",
       "      <th>0</th>\n",
       "      <td>publish_date</td>\n",
       "      <td>headline_category</td>\n",
       "      <td>headline_text</td>\n",
       "    </tr>\n",
       "    <tr>\n",
       "      <th>1</th>\n",
       "      <td>20150101</td>\n",
       "      <td>life-style.food.recipes</td>\n",
       "      <td>Breakfast recipe for diabetics: Moong idlis</td>\n",
       "    </tr>\n",
       "    <tr>\n",
       "      <th>2</th>\n",
       "      <td>20150101</td>\n",
       "      <td>life-style.food.recipes</td>\n",
       "      <td>Recipe: Delicious coconut balls</td>\n",
       "    </tr>\n",
       "    <tr>\n",
       "      <th>3</th>\n",
       "      <td>20150101</td>\n",
       "      <td>life-style.beauty</td>\n",
       "      <td>Cure that dandruff naturally</td>\n",
       "    </tr>\n",
       "    <tr>\n",
       "      <th>4</th>\n",
       "      <td>20150101</td>\n",
       "      <td>life-style.food.recipes</td>\n",
       "      <td>Recipe: Kerala Chicken curry</td>\n",
       "    </tr>\n",
       "    <tr>\n",
       "      <th>...</th>\n",
       "      <td>...</td>\n",
       "      <td>...</td>\n",
       "      <td>...</td>\n",
       "    </tr>\n",
       "    <tr>\n",
       "      <th>1201916</th>\n",
       "      <td>20191231</td>\n",
       "      <td>gadgets-news</td>\n",
       "      <td>vivo s1 pro with 48mp quad camera setup launch...</td>\n",
       "    </tr>\n",
       "    <tr>\n",
       "      <th>1201917</th>\n",
       "      <td>20191231</td>\n",
       "      <td>world.pakistan</td>\n",
       "      <td>muslims mob attack gurdwara nankana sahib with...</td>\n",
       "    </tr>\n",
       "    <tr>\n",
       "      <th>1201918</th>\n",
       "      <td>20191231</td>\n",
       "      <td>world.us</td>\n",
       "      <td>general soleimani should have been eliminated ...</td>\n",
       "    </tr>\n",
       "    <tr>\n",
       "      <th>1201919</th>\n",
       "      <td>20191231</td>\n",
       "      <td>india</td>\n",
       "      <td>india strongly condemns vandalism at nankana s...</td>\n",
       "    </tr>\n",
       "    <tr>\n",
       "      <th>1201920</th>\n",
       "      <td>20191231</td>\n",
       "      <td>india</td>\n",
       "      <td>pakistan pm imran khan tweets old video of vio...</td>\n",
       "    </tr>\n",
       "  </tbody>\n",
       "</table>\n",
       "<p>1201921 rows × 3 columns</p>\n",
       "</div>"
      ],
      "text/plain": [
       "                 Date  ...                                               News\n",
       "0        publish_date  ...                                      headline_text\n",
       "1            20150101  ...        Breakfast recipe for diabetics: Moong idlis\n",
       "2            20150101  ...                    Recipe: Delicious coconut balls\n",
       "3            20150101  ...                       Cure that dandruff naturally\n",
       "4            20150101  ...                       Recipe: Kerala Chicken curry\n",
       "...               ...  ...                                                ...\n",
       "1201916      20191231  ...  vivo s1 pro with 48mp quad camera setup launch...\n",
       "1201917      20191231  ...  muslims mob attack gurdwara nankana sahib with...\n",
       "1201918      20191231  ...  general soleimani should have been eliminated ...\n",
       "1201919      20191231  ...  india strongly condemns vandalism at nankana s...\n",
       "1201920      20191231  ...  pakistan pm imran khan tweets old video of vio...\n",
       "\n",
       "[1201921 rows x 3 columns]"
      ]
     },
     "execution_count": 44,
     "metadata": {
      "tags": []
     },
     "output_type": "execute_result"
    }
   ],
   "source": [
    "cols = ['Date','Category','News']\n",
    "df_news = pd.read_csv('india-news-headlines.csv', names = cols)\n",
    "df_news"
   ]
  },
  {
   "cell_type": "code",
   "execution_count": 45,
   "metadata": {
    "colab": {
     "base_uri": "https://localhost:8080/",
     "height": 170
    },
    "id": "s09RrWKwEj7i",
    "outputId": "ade11429-4355-41e1-9423-7d9f48b17ea8"
   },
   "outputs": [
    {
     "name": "stdout",
     "output_type": "stream",
     "text": [
      "<class 'pandas.core.frame.DataFrame'>\n",
      "Int64Index: 1201920 entries, 1 to 1201920\n",
      "Data columns (total 2 columns):\n",
      " #   Column  Non-Null Count    Dtype \n",
      "---  ------  --------------    ----- \n",
      " 0   Date    1201920 non-null  object\n",
      " 1   News    1201920 non-null  object\n",
      "dtypes: object(2)\n",
      "memory usage: 27.5+ MB\n"
     ]
    }
   ],
   "source": [
    "df_news.drop(0, inplace=True)\n",
    "df_news.drop('Category', axis = 1, inplace=True)\n",
    "df_news.info()"
   ]
  },
  {
   "cell_type": "code",
   "execution_count": 46,
   "metadata": {
    "colab": {
     "base_uri": "https://localhost:8080/",
     "height": 419
    },
    "id": "wAjXdsIhgtPD",
    "outputId": "2bda7e56-25a8-422c-c317-757c0b1cbeac"
   },
   "outputs": [
    {
     "data": {
      "text/html": [
       "<div>\n",
       "<style scoped>\n",
       "    .dataframe tbody tr th:only-of-type {\n",
       "        vertical-align: middle;\n",
       "    }\n",
       "\n",
       "    .dataframe tbody tr th {\n",
       "        vertical-align: top;\n",
       "    }\n",
       "\n",
       "    .dataframe thead th {\n",
       "        text-align: right;\n",
       "    }\n",
       "</style>\n",
       "<table border=\"1\" class=\"dataframe\">\n",
       "  <thead>\n",
       "    <tr style=\"text-align: right;\">\n",
       "      <th></th>\n",
       "      <th>Date</th>\n",
       "      <th>News</th>\n",
       "    </tr>\n",
       "  </thead>\n",
       "  <tbody>\n",
       "    <tr>\n",
       "      <th>1</th>\n",
       "      <td>2015-01-01</td>\n",
       "      <td>Breakfast recipe for diabetics: Moong idlis</td>\n",
       "    </tr>\n",
       "    <tr>\n",
       "      <th>2</th>\n",
       "      <td>2015-01-01</td>\n",
       "      <td>Recipe: Delicious coconut balls</td>\n",
       "    </tr>\n",
       "    <tr>\n",
       "      <th>3</th>\n",
       "      <td>2015-01-01</td>\n",
       "      <td>Cure that dandruff naturally</td>\n",
       "    </tr>\n",
       "    <tr>\n",
       "      <th>4</th>\n",
       "      <td>2015-01-01</td>\n",
       "      <td>Recipe: Kerala Chicken curry</td>\n",
       "    </tr>\n",
       "    <tr>\n",
       "      <th>5</th>\n",
       "      <td>2015-01-01</td>\n",
       "      <td>Recipe: Mocha Coffee</td>\n",
       "    </tr>\n",
       "    <tr>\n",
       "      <th>...</th>\n",
       "      <td>...</td>\n",
       "      <td>...</td>\n",
       "    </tr>\n",
       "    <tr>\n",
       "      <th>1201916</th>\n",
       "      <td>2019-12-31</td>\n",
       "      <td>vivo s1 pro with 48mp quad camera setup launch...</td>\n",
       "    </tr>\n",
       "    <tr>\n",
       "      <th>1201917</th>\n",
       "      <td>2019-12-31</td>\n",
       "      <td>muslims mob attack gurdwara nankana sahib with...</td>\n",
       "    </tr>\n",
       "    <tr>\n",
       "      <th>1201918</th>\n",
       "      <td>2019-12-31</td>\n",
       "      <td>general soleimani should have been eliminated ...</td>\n",
       "    </tr>\n",
       "    <tr>\n",
       "      <th>1201919</th>\n",
       "      <td>2019-12-31</td>\n",
       "      <td>india strongly condemns vandalism at nankana s...</td>\n",
       "    </tr>\n",
       "    <tr>\n",
       "      <th>1201920</th>\n",
       "      <td>2019-12-31</td>\n",
       "      <td>pakistan pm imran khan tweets old video of vio...</td>\n",
       "    </tr>\n",
       "  </tbody>\n",
       "</table>\n",
       "<p>1201920 rows × 2 columns</p>\n",
       "</div>"
      ],
      "text/plain": [
       "              Date                                               News\n",
       "1       2015-01-01        Breakfast recipe for diabetics: Moong idlis\n",
       "2       2015-01-01                    Recipe: Delicious coconut balls\n",
       "3       2015-01-01                       Cure that dandruff naturally\n",
       "4       2015-01-01                       Recipe: Kerala Chicken curry\n",
       "5       2015-01-01                               Recipe: Mocha Coffee\n",
       "...            ...                                                ...\n",
       "1201916 2019-12-31  vivo s1 pro with 48mp quad camera setup launch...\n",
       "1201917 2019-12-31  muslims mob attack gurdwara nankana sahib with...\n",
       "1201918 2019-12-31  general soleimani should have been eliminated ...\n",
       "1201919 2019-12-31  india strongly condemns vandalism at nankana s...\n",
       "1201920 2019-12-31  pakistan pm imran khan tweets old video of vio...\n",
       "\n",
       "[1201920 rows x 2 columns]"
      ]
     },
     "execution_count": 46,
     "metadata": {
      "tags": []
     },
     "output_type": "execute_result"
    }
   ],
   "source": [
    " #Converting data type of Date column \n",
    " df_news['Date'] = pd.to_datetime(df_news['Date'],format= '%Y%m%d')\n",
    " df_news"
   ]
  },
  {
   "cell_type": "code",
   "execution_count": 47,
   "metadata": {
    "colab": {
     "base_uri": "https://localhost:8080/",
     "height": 419
    },
    "id": "Bt40GZW963ac",
    "outputId": "66937bcb-0735-4baf-8983-76b82523d969"
   },
   "outputs": [
    {
     "data": {
      "text/html": [
       "<div>\n",
       "<style scoped>\n",
       "    .dataframe tbody tr th:only-of-type {\n",
       "        vertical-align: middle;\n",
       "    }\n",
       "\n",
       "    .dataframe tbody tr th {\n",
       "        vertical-align: top;\n",
       "    }\n",
       "\n",
       "    .dataframe thead th {\n",
       "        text-align: right;\n",
       "    }\n",
       "</style>\n",
       "<table border=\"1\" class=\"dataframe\">\n",
       "  <thead>\n",
       "    <tr style=\"text-align: right;\">\n",
       "      <th></th>\n",
       "      <th>Date</th>\n",
       "      <th>News</th>\n",
       "    </tr>\n",
       "  </thead>\n",
       "  <tbody>\n",
       "    <tr>\n",
       "      <th>0</th>\n",
       "      <td>2015-01-01</td>\n",
       "      <td>Breakfast recipe for diabetics: Moong idlis Re...</td>\n",
       "    </tr>\n",
       "    <tr>\n",
       "      <th>1</th>\n",
       "      <td>2015-01-02</td>\n",
       "      <td>Drink smart with these party tips How to say s...</td>\n",
       "    </tr>\n",
       "    <tr>\n",
       "      <th>2</th>\n",
       "      <td>2015-01-03</td>\n",
       "      <td>3 Stylish New Year cocktail recipes you'll LOV...</td>\n",
       "    </tr>\n",
       "    <tr>\n",
       "      <th>3</th>\n",
       "      <td>2015-01-04</td>\n",
       "      <td>How to get that bikini body Rules of love-maki...</td>\n",
       "    </tr>\n",
       "    <tr>\n",
       "      <th>4</th>\n",
       "      <td>2015-01-05</td>\n",
       "      <td>Recipe: Strawberry cupcakes Recipe: Kaju jeera...</td>\n",
       "    </tr>\n",
       "    <tr>\n",
       "      <th>...</th>\n",
       "      <td>...</td>\n",
       "      <td>...</td>\n",
       "    </tr>\n",
       "    <tr>\n",
       "      <th>1821</th>\n",
       "      <td>2019-12-27</td>\n",
       "      <td>All schools in Naintial to be closed for two d...</td>\n",
       "    </tr>\n",
       "    <tr>\n",
       "      <th>1822</th>\n",
       "      <td>2019-12-28</td>\n",
       "      <td>Shivin Narang on Bigg Boss 13 contestants: It'...</td>\n",
       "    </tr>\n",
       "    <tr>\n",
       "      <th>1823</th>\n",
       "      <td>2019-12-29</td>\n",
       "      <td>The year of flexi habits The year of self Less...</td>\n",
       "    </tr>\n",
       "    <tr>\n",
       "      <th>1824</th>\n",
       "      <td>2019-12-30</td>\n",
       "      <td>Kareena Kapoor is holidaying in Switzerland an...</td>\n",
       "    </tr>\n",
       "    <tr>\n",
       "      <th>1825</th>\n",
       "      <td>2019-12-31</td>\n",
       "      <td>herbal weight loss supplements to help you get...</td>\n",
       "    </tr>\n",
       "  </tbody>\n",
       "</table>\n",
       "<p>1826 rows × 2 columns</p>\n",
       "</div>"
      ],
      "text/plain": [
       "           Date                                               News\n",
       "0    2015-01-01  Breakfast recipe for diabetics: Moong idlis Re...\n",
       "1    2015-01-02  Drink smart with these party tips How to say s...\n",
       "2    2015-01-03  3 Stylish New Year cocktail recipes you'll LOV...\n",
       "3    2015-01-04  How to get that bikini body Rules of love-maki...\n",
       "4    2015-01-05  Recipe: Strawberry cupcakes Recipe: Kaju jeera...\n",
       "...         ...                                                ...\n",
       "1821 2019-12-27  All schools in Naintial to be closed for two d...\n",
       "1822 2019-12-28  Shivin Narang on Bigg Boss 13 contestants: It'...\n",
       "1823 2019-12-29  The year of flexi habits The year of self Less...\n",
       "1824 2019-12-30  Kareena Kapoor is holidaying in Switzerland an...\n",
       "1825 2019-12-31  herbal weight loss supplements to help you get...\n",
       "\n",
       "[1826 rows x 2 columns]"
      ]
     },
     "execution_count": 47,
     "metadata": {
      "tags": []
     },
     "output_type": "execute_result"
    }
   ],
   "source": [
    "#Grouping the headlines for each day\n",
    "df_news['News'] = df_news.groupby(['Date']).transform(lambda x : ' '.join(x)) \n",
    "df_news = df_news.drop_duplicates() \n",
    "df_news.reset_index(inplace = True, drop = True)\n",
    "df_news"
   ]
  },
  {
   "cell_type": "code",
   "execution_count": 48,
   "metadata": {
    "colab": {
     "base_uri": "https://localhost:8080/",
     "height": 221
    },
    "id": "rO5_oVqxnEP2",
    "outputId": "ca0706b6-24ae-40ef-a10d-8898a75b3851"
   },
   "outputs": [
    {
     "data": {
      "text/plain": [
       "0       Breakfast recipe for diabetics: Moong idlis Re...\n",
       "1       Drink smart with these party tips How to say s...\n",
       "2       3 Stylish New Year cocktail recipes you'll LOV...\n",
       "3       How to get that bikini body Rules of love-maki...\n",
       "4       Recipe: Strawberry cupcakes Recipe: Kaju jeera...\n",
       "                              ...                        \n",
       "1821    All schools in Naintial to be closed for two d...\n",
       "1822    Shivin Narang on Bigg Boss 13 contestants: It'...\n",
       "1823    The year of flexi habits The year of self Less...\n",
       "1824    Kareena Kapoor is holidaying in Switzerland an...\n",
       "1825    herbal weight loss supplements to help you get...\n",
       "Name: News, Length: 1826, dtype: object"
      ]
     },
     "execution_count": 48,
     "metadata": {
      "tags": []
     },
     "output_type": "execute_result"
    }
   ],
   "source": [
    "df_news['News']"
   ]
  },
  {
   "cell_type": "code",
   "execution_count": 49,
   "metadata": {
    "id": "C919a2Ro_nQ-"
   },
   "outputs": [],
   "source": [
    "#Cleaning headlines\n",
    "c = []\n",
    "for i in range(0,len(df_news['News'])):\n",
    "    news = re.sub('[^a-zA-Z]',' ',df_news['News'][i])\n",
    "    news = news.lower()\n",
    "    news = news.split()\n",
    "    news = [ps.stem(word) for word in news if not word in set(stopwords.words('english'))]\n",
    "    news=' '.join(news)\n",
    "    c.append(news)"
   ]
  },
  {
   "cell_type": "code",
   "execution_count": 50,
   "metadata": {
    "colab": {
     "base_uri": "https://localhost:8080/",
     "height": 419
    },
    "id": "yXiDeuZTSoCu",
    "outputId": "001f65de-9b35-44a0-947b-d6fd44b1585b"
   },
   "outputs": [
    {
     "data": {
      "text/html": [
       "<div>\n",
       "<style scoped>\n",
       "    .dataframe tbody tr th:only-of-type {\n",
       "        vertical-align: middle;\n",
       "    }\n",
       "\n",
       "    .dataframe tbody tr th {\n",
       "        vertical-align: top;\n",
       "    }\n",
       "\n",
       "    .dataframe thead th {\n",
       "        text-align: right;\n",
       "    }\n",
       "</style>\n",
       "<table border=\"1\" class=\"dataframe\">\n",
       "  <thead>\n",
       "    <tr style=\"text-align: right;\">\n",
       "      <th></th>\n",
       "      <th>Date</th>\n",
       "      <th>News</th>\n",
       "    </tr>\n",
       "  </thead>\n",
       "  <tbody>\n",
       "    <tr>\n",
       "      <th>0</th>\n",
       "      <td>2015-01-01</td>\n",
       "      <td>breakfast recip diabet moong idli recip delici...</td>\n",
       "    </tr>\n",
       "    <tr>\n",
       "      <th>1</th>\n",
       "      <td>2015-01-02</td>\n",
       "      <td>drink smart parti tip say sorri kid take child...</td>\n",
       "    </tr>\n",
       "    <tr>\n",
       "      <th>2</th>\n",
       "      <td>2015-01-03</td>\n",
       "      <td>stylish new year cocktail recip love dessert r...</td>\n",
       "    </tr>\n",
       "    <tr>\n",
       "      <th>3</th>\n",
       "      <td>2015-01-04</td>\n",
       "      <td>get bikini bodi rule love make appli work bake...</td>\n",
       "    </tr>\n",
       "    <tr>\n",
       "      <th>4</th>\n",
       "      <td>2015-01-05</td>\n",
       "      <td>recip strawberri cupcak recip kaju jeera rice ...</td>\n",
       "    </tr>\n",
       "    <tr>\n",
       "      <th>...</th>\n",
       "      <td>...</td>\n",
       "      <td>...</td>\n",
       "    </tr>\n",
       "    <tr>\n",
       "      <th>1821</th>\n",
       "      <td>2019-12-27</td>\n",
       "      <td>school naintial close two day nirbhay wadhwa u...</td>\n",
       "    </tr>\n",
       "    <tr>\n",
       "      <th>1822</th>\n",
       "      <td>2019-12-28</td>\n",
       "      <td>shivin narang bigg boss contest crazi peopl be...</td>\n",
       "    </tr>\n",
       "    <tr>\n",
       "      <th>1823</th>\n",
       "      <td>2019-12-29</td>\n",
       "      <td>year flexi habit year self lesson learnt confu...</td>\n",
       "    </tr>\n",
       "    <tr>\n",
       "      <th>1824</th>\n",
       "      <td>2019-12-30</td>\n",
       "      <td>kareena kapoor holiday switzerland internet st...</td>\n",
       "    </tr>\n",
       "    <tr>\n",
       "      <th>1825</th>\n",
       "      <td>2019-12-31</td>\n",
       "      <td>herbal weight loss supplement help get back sh...</td>\n",
       "    </tr>\n",
       "  </tbody>\n",
       "</table>\n",
       "<p>1826 rows × 2 columns</p>\n",
       "</div>"
      ],
      "text/plain": [
       "           Date                                               News\n",
       "0    2015-01-01  breakfast recip diabet moong idli recip delici...\n",
       "1    2015-01-02  drink smart parti tip say sorri kid take child...\n",
       "2    2015-01-03  stylish new year cocktail recip love dessert r...\n",
       "3    2015-01-04  get bikini bodi rule love make appli work bake...\n",
       "4    2015-01-05  recip strawberri cupcak recip kaju jeera rice ...\n",
       "...         ...                                                ...\n",
       "1821 2019-12-27  school naintial close two day nirbhay wadhwa u...\n",
       "1822 2019-12-28  shivin narang bigg boss contest crazi peopl be...\n",
       "1823 2019-12-29  year flexi habit year self lesson learnt confu...\n",
       "1824 2019-12-30  kareena kapoor holiday switzerland internet st...\n",
       "1825 2019-12-31  herbal weight loss supplement help get back sh...\n",
       "\n",
       "[1826 rows x 2 columns]"
      ]
     },
     "execution_count": 50,
     "metadata": {
      "tags": []
     },
     "output_type": "execute_result"
    }
   ],
   "source": [
    "df_news['News'] = pd.Series(c)\n",
    "df_news"
   ]
  },
  {
   "cell_type": "code",
   "execution_count": 51,
   "metadata": {
    "id": "EHXwfi5p-ItO"
   },
   "outputs": [],
   "source": [
    "#Functions to get the subjectivity and polarity\n",
    "def getSubjectivity(text):\n",
    "  return TextBlob(text).sentiment.subjectivity\n",
    "\n",
    "def getPolarity(text):\n",
    "  return  TextBlob(text).sentiment.polarity"
   ]
  },
  {
   "cell_type": "code",
   "execution_count": 52,
   "metadata": {
    "colab": {
     "base_uri": "https://localhost:8080/",
     "height": 419
    },
    "id": "hD75mMdf-Rsv",
    "outputId": "1f1774e7-9c6f-42b9-befe-05f6d9919e44"
   },
   "outputs": [
    {
     "data": {
      "text/html": [
       "<div>\n",
       "<style scoped>\n",
       "    .dataframe tbody tr th:only-of-type {\n",
       "        vertical-align: middle;\n",
       "    }\n",
       "\n",
       "    .dataframe tbody tr th {\n",
       "        vertical-align: top;\n",
       "    }\n",
       "\n",
       "    .dataframe thead th {\n",
       "        text-align: right;\n",
       "    }\n",
       "</style>\n",
       "<table border=\"1\" class=\"dataframe\">\n",
       "  <thead>\n",
       "    <tr style=\"text-align: right;\">\n",
       "      <th></th>\n",
       "      <th>Date</th>\n",
       "      <th>News</th>\n",
       "      <th>Subjectivity</th>\n",
       "      <th>Polarity</th>\n",
       "    </tr>\n",
       "  </thead>\n",
       "  <tbody>\n",
       "    <tr>\n",
       "      <th>0</th>\n",
       "      <td>2015-01-01</td>\n",
       "      <td>breakfast recip diabet moong idli recip delici...</td>\n",
       "      <td>0.432083</td>\n",
       "      <td>0.083989</td>\n",
       "    </tr>\n",
       "    <tr>\n",
       "      <th>1</th>\n",
       "      <td>2015-01-02</td>\n",
       "      <td>drink smart parti tip say sorri kid take child...</td>\n",
       "      <td>0.427002</td>\n",
       "      <td>0.059439</td>\n",
       "    </tr>\n",
       "    <tr>\n",
       "      <th>2</th>\n",
       "      <td>2015-01-03</td>\n",
       "      <td>stylish new year cocktail recip love dessert r...</td>\n",
       "      <td>0.412459</td>\n",
       "      <td>0.072817</td>\n",
       "    </tr>\n",
       "    <tr>\n",
       "      <th>3</th>\n",
       "      <td>2015-01-04</td>\n",
       "      <td>get bikini bodi rule love make appli work bake...</td>\n",
       "      <td>0.407143</td>\n",
       "      <td>0.089526</td>\n",
       "    </tr>\n",
       "    <tr>\n",
       "      <th>4</th>\n",
       "      <td>2015-01-05</td>\n",
       "      <td>recip strawberri cupcak recip kaju jeera rice ...</td>\n",
       "      <td>0.409543</td>\n",
       "      <td>0.119753</td>\n",
       "    </tr>\n",
       "    <tr>\n",
       "      <th>...</th>\n",
       "      <td>...</td>\n",
       "      <td>...</td>\n",
       "      <td>...</td>\n",
       "      <td>...</td>\n",
       "    </tr>\n",
       "    <tr>\n",
       "      <th>1821</th>\n",
       "      <td>2019-12-27</td>\n",
       "      <td>school naintial close two day nirbhay wadhwa u...</td>\n",
       "      <td>0.357721</td>\n",
       "      <td>0.058962</td>\n",
       "    </tr>\n",
       "    <tr>\n",
       "      <th>1822</th>\n",
       "      <td>2019-12-28</td>\n",
       "      <td>shivin narang bigg boss contest crazi peopl be...</td>\n",
       "      <td>0.375351</td>\n",
       "      <td>0.062086</td>\n",
       "    </tr>\n",
       "    <tr>\n",
       "      <th>1823</th>\n",
       "      <td>2019-12-29</td>\n",
       "      <td>year flexi habit year self lesson learnt confu...</td>\n",
       "      <td>0.425854</td>\n",
       "      <td>0.050875</td>\n",
       "    </tr>\n",
       "    <tr>\n",
       "      <th>1824</th>\n",
       "      <td>2019-12-30</td>\n",
       "      <td>kareena kapoor holiday switzerland internet st...</td>\n",
       "      <td>0.384306</td>\n",
       "      <td>0.060182</td>\n",
       "    </tr>\n",
       "    <tr>\n",
       "      <th>1825</th>\n",
       "      <td>2019-12-31</td>\n",
       "      <td>herbal weight loss supplement help get back sh...</td>\n",
       "      <td>0.374378</td>\n",
       "      <td>0.023247</td>\n",
       "    </tr>\n",
       "  </tbody>\n",
       "</table>\n",
       "<p>1826 rows × 4 columns</p>\n",
       "</div>"
      ],
      "text/plain": [
       "           Date  ...  Polarity\n",
       "0    2015-01-01  ...  0.083989\n",
       "1    2015-01-02  ...  0.059439\n",
       "2    2015-01-03  ...  0.072817\n",
       "3    2015-01-04  ...  0.089526\n",
       "4    2015-01-05  ...  0.119753\n",
       "...         ...  ...       ...\n",
       "1821 2019-12-27  ...  0.058962\n",
       "1822 2019-12-28  ...  0.062086\n",
       "1823 2019-12-29  ...  0.050875\n",
       "1824 2019-12-30  ...  0.060182\n",
       "1825 2019-12-31  ...  0.023247\n",
       "\n",
       "[1826 rows x 4 columns]"
      ]
     },
     "execution_count": 52,
     "metadata": {
      "tags": []
     },
     "output_type": "execute_result"
    }
   ],
   "source": [
    "#Adding subjectivity and polarity columns\n",
    "df_news['Subjectivity'] = df_news['News'].apply(getSubjectivity)\n",
    "df_news['Polarity'] = df_news['News'].apply(getPolarity)\n",
    "df_news"
   ]
  },
  {
   "cell_type": "code",
   "execution_count": 53,
   "metadata": {
    "colab": {
     "base_uri": "https://localhost:8080/",
     "height": 392
    },
    "id": "sKLOKZXg_rP0",
    "outputId": "d893f213-2a39-4035-d313-d3dd0daea323"
   },
   "outputs": [
    {
     "data": {
      "text/plain": [
       "<matplotlib.axes._subplots.AxesSubplot at 0x7f22787c2e10>"
      ]
     },
     "execution_count": 53,
     "metadata": {
      "tags": []
     },
     "output_type": "execute_result"
    },
    {
     "data": {
      "image/png": "[encoded data removed]",
      "text/plain": [
       "<Figure size 720x432 with 1 Axes>"
      ]
     },
     "metadata": {
      "needs_background": "light",
      "tags": []
     },
     "output_type": "display_data"
    }
   ],
   "source": [
    "plt.figure(figsize = (10,6))\n",
    "df_news['Polarity'].hist(color = 'purple')"
   ]
  },
  {
   "cell_type": "code",
   "execution_count": 54,
   "metadata": {
    "colab": {
     "base_uri": "https://localhost:8080/",
     "height": 391
    },
    "id": "H9Q2gW9oBW6G",
    "outputId": "4654c53f-f280-4fa9-ab96-a4829283df27"
   },
   "outputs": [
    {
     "data": {
      "text/plain": [
       "<matplotlib.axes._subplots.AxesSubplot at 0x7f22787c2080>"
      ]
     },
     "execution_count": 54,
     "metadata": {
      "tags": []
     },
     "output_type": "execute_result"
    },
    {
     "data": {
      "image/png": "[encoded data removed]",
      "text/plain": [
       "<Figure size 720x432 with 1 Axes>"
      ]
     },
     "metadata": {
      "needs_background": "light",
      "tags": []
     },
     "output_type": "display_data"
    }
   ],
   "source": [
    "plt.figure(figsize = (10,6))\n",
    "df_news['Subjectivity'].hist(color = 'blue')"
   ]
  },
  {
   "cell_type": "code",
   "execution_count": 55,
   "metadata": {
    "colab": {
     "base_uri": "https://localhost:8080/",
     "height": 419
    },
    "id": "KhpC_kViBfEM",
    "outputId": "d8a01974-a96e-46b0-b609-ef80792a8a96"
   },
   "outputs": [
    {
     "data": {
      "text/html": [
       "<div>\n",
       "<style scoped>\n",
       "    .dataframe tbody tr th:only-of-type {\n",
       "        vertical-align: middle;\n",
       "    }\n",
       "\n",
       "    .dataframe tbody tr th {\n",
       "        vertical-align: top;\n",
       "    }\n",
       "\n",
       "    .dataframe thead th {\n",
       "        text-align: right;\n",
       "    }\n",
       "</style>\n",
       "<table border=\"1\" class=\"dataframe\">\n",
       "  <thead>\n",
       "    <tr style=\"text-align: right;\">\n",
       "      <th></th>\n",
       "      <th>Date</th>\n",
       "      <th>News</th>\n",
       "      <th>Subjectivity</th>\n",
       "      <th>Polarity</th>\n",
       "      <th>Compound</th>\n",
       "      <th>Negative</th>\n",
       "      <th>Neutral</th>\n",
       "      <th>Positive</th>\n",
       "    </tr>\n",
       "  </thead>\n",
       "  <tbody>\n",
       "    <tr>\n",
       "      <th>0</th>\n",
       "      <td>2015-01-01</td>\n",
       "      <td>breakfast recip diabet moong idli recip delici...</td>\n",
       "      <td>0.432083</td>\n",
       "      <td>0.083989</td>\n",
       "      <td>-0.9991</td>\n",
       "      <td>0.118</td>\n",
       "      <td>0.792</td>\n",
       "      <td>0.091</td>\n",
       "    </tr>\n",
       "    <tr>\n",
       "      <th>1</th>\n",
       "      <td>2015-01-02</td>\n",
       "      <td>drink smart parti tip say sorri kid take child...</td>\n",
       "      <td>0.427002</td>\n",
       "      <td>0.059439</td>\n",
       "      <td>-0.9991</td>\n",
       "      <td>0.128</td>\n",
       "      <td>0.768</td>\n",
       "      <td>0.103</td>\n",
       "    </tr>\n",
       "    <tr>\n",
       "      <th>2</th>\n",
       "      <td>2015-01-03</td>\n",
       "      <td>stylish new year cocktail recip love dessert r...</td>\n",
       "      <td>0.412459</td>\n",
       "      <td>0.072817</td>\n",
       "      <td>-0.9996</td>\n",
       "      <td>0.127</td>\n",
       "      <td>0.787</td>\n",
       "      <td>0.086</td>\n",
       "    </tr>\n",
       "    <tr>\n",
       "      <th>3</th>\n",
       "      <td>2015-01-04</td>\n",
       "      <td>get bikini bodi rule love make appli work bake...</td>\n",
       "      <td>0.407143</td>\n",
       "      <td>0.089526</td>\n",
       "      <td>-0.9998</td>\n",
       "      <td>0.131</td>\n",
       "      <td>0.796</td>\n",
       "      <td>0.073</td>\n",
       "    </tr>\n",
       "    <tr>\n",
       "      <th>4</th>\n",
       "      <td>2015-01-05</td>\n",
       "      <td>recip strawberri cupcak recip kaju jeera rice ...</td>\n",
       "      <td>0.409543</td>\n",
       "      <td>0.119753</td>\n",
       "      <td>-0.9989</td>\n",
       "      <td>0.122</td>\n",
       "      <td>0.781</td>\n",
       "      <td>0.097</td>\n",
       "    </tr>\n",
       "    <tr>\n",
       "      <th>...</th>\n",
       "      <td>...</td>\n",
       "      <td>...</td>\n",
       "      <td>...</td>\n",
       "      <td>...</td>\n",
       "      <td>...</td>\n",
       "      <td>...</td>\n",
       "      <td>...</td>\n",
       "      <td>...</td>\n",
       "    </tr>\n",
       "    <tr>\n",
       "      <th>1821</th>\n",
       "      <td>2019-12-27</td>\n",
       "      <td>school naintial close two day nirbhay wadhwa u...</td>\n",
       "      <td>0.357721</td>\n",
       "      <td>0.058962</td>\n",
       "      <td>-0.9999</td>\n",
       "      <td>0.179</td>\n",
       "      <td>0.756</td>\n",
       "      <td>0.065</td>\n",
       "    </tr>\n",
       "    <tr>\n",
       "      <th>1822</th>\n",
       "      <td>2019-12-28</td>\n",
       "      <td>shivin narang bigg boss contest crazi peopl be...</td>\n",
       "      <td>0.375351</td>\n",
       "      <td>0.062086</td>\n",
       "      <td>-0.9999</td>\n",
       "      <td>0.170</td>\n",
       "      <td>0.769</td>\n",
       "      <td>0.061</td>\n",
       "    </tr>\n",
       "    <tr>\n",
       "      <th>1823</th>\n",
       "      <td>2019-12-29</td>\n",
       "      <td>year flexi habit year self lesson learnt confu...</td>\n",
       "      <td>0.425854</td>\n",
       "      <td>0.050875</td>\n",
       "      <td>-0.9999</td>\n",
       "      <td>0.163</td>\n",
       "      <td>0.758</td>\n",
       "      <td>0.079</td>\n",
       "    </tr>\n",
       "    <tr>\n",
       "      <th>1824</th>\n",
       "      <td>2019-12-30</td>\n",
       "      <td>kareena kapoor holiday switzerland internet st...</td>\n",
       "      <td>0.384306</td>\n",
       "      <td>0.060182</td>\n",
       "      <td>-0.9999</td>\n",
       "      <td>0.167</td>\n",
       "      <td>0.757</td>\n",
       "      <td>0.076</td>\n",
       "    </tr>\n",
       "    <tr>\n",
       "      <th>1825</th>\n",
       "      <td>2019-12-31</td>\n",
       "      <td>herbal weight loss supplement help get back sh...</td>\n",
       "      <td>0.374378</td>\n",
       "      <td>0.023247</td>\n",
       "      <td>-0.9999</td>\n",
       "      <td>0.185</td>\n",
       "      <td>0.749</td>\n",
       "      <td>0.067</td>\n",
       "    </tr>\n",
       "  </tbody>\n",
       "</table>\n",
       "<p>1826 rows × 8 columns</p>\n",
       "</div>"
      ],
      "text/plain": [
       "           Date  ... Positive\n",
       "0    2015-01-01  ...    0.091\n",
       "1    2015-01-02  ...    0.103\n",
       "2    2015-01-03  ...    0.086\n",
       "3    2015-01-04  ...    0.073\n",
       "4    2015-01-05  ...    0.097\n",
       "...         ...  ...      ...\n",
       "1821 2019-12-27  ...    0.065\n",
       "1822 2019-12-28  ...    0.061\n",
       "1823 2019-12-29  ...    0.079\n",
       "1824 2019-12-30  ...    0.076\n",
       "1825 2019-12-31  ...    0.067\n",
       "\n",
       "[1826 rows x 8 columns]"
      ]
     },
     "execution_count": 55,
     "metadata": {
      "tags": []
     },
     "output_type": "execute_result"
    }
   ],
   "source": [
    "#Adding sentiment score to df_news\n",
    "sia = SentimentIntensityAnalyzer()\n",
    "\n",
    "df_news['Compound'] = [sia.polarity_scores(v)['compound'] for v in df_news['News']]\n",
    "df_news['Negative'] = [sia.polarity_scores(v)['neg'] for v in df_news['News']]\n",
    "df_news['Neutral'] = [sia.polarity_scores(v)['neu'] for v in df_news['News']]\n",
    "df_news['Positive'] = [sia.polarity_scores(v)['pos'] for v in df_news['News']]\n",
    "df_news"
   ]
  },
  {
   "cell_type": "code",
   "execution_count": 56,
   "metadata": {
    "colab": {
     "base_uri": "https://localhost:8080/",
     "height": 1000
    },
    "id": "z6P2SKvLFY9M",
    "outputId": "5e84f0db-344c-4c7b-c823-8a6fd388fbf8"
   },
   "outputs": [
    {
     "data": {
      "text/html": [
       "<div>\n",
       "<style scoped>\n",
       "    .dataframe tbody tr th:only-of-type {\n",
       "        vertical-align: middle;\n",
       "    }\n",
       "\n",
       "    .dataframe tbody tr th {\n",
       "        vertical-align: top;\n",
       "    }\n",
       "\n",
       "    .dataframe thead th {\n",
       "        text-align: right;\n",
       "    }\n",
       "</style>\n",
       "<table border=\"1\" class=\"dataframe\">\n",
       "  <thead>\n",
       "    <tr style=\"text-align: right;\">\n",
       "      <th></th>\n",
       "      <th>Date</th>\n",
       "      <th>Open</th>\n",
       "      <th>High</th>\n",
       "      <th>Low</th>\n",
       "      <th>Close</th>\n",
       "      <th>Adj Close</th>\n",
       "      <th>Volume</th>\n",
       "      <th>News</th>\n",
       "      <th>Subjectivity</th>\n",
       "      <th>Polarity</th>\n",
       "      <th>Compound</th>\n",
       "      <th>Negative</th>\n",
       "      <th>Neutral</th>\n",
       "      <th>Positive</th>\n",
       "    </tr>\n",
       "  </thead>\n",
       "  <tbody>\n",
       "    <tr>\n",
       "      <th>0</th>\n",
       "      <td>2015-01-02</td>\n",
       "      <td>27521.279297</td>\n",
       "      <td>27937.470703</td>\n",
       "      <td>27519.259766</td>\n",
       "      <td>27887.900391</td>\n",
       "      <td>27887.900391</td>\n",
       "      <td>7400.0</td>\n",
       "      <td>drink smart parti tip say sorri kid take child...</td>\n",
       "      <td>0.427002</td>\n",
       "      <td>0.059439</td>\n",
       "      <td>-0.9991</td>\n",
       "      <td>0.128</td>\n",
       "      <td>0.768</td>\n",
       "      <td>0.103</td>\n",
       "    </tr>\n",
       "    <tr>\n",
       "      <th>1</th>\n",
       "      <td>2015-01-05</td>\n",
       "      <td>27978.429688</td>\n",
       "      <td>28064.490234</td>\n",
       "      <td>27786.849609</td>\n",
       "      <td>27842.320313</td>\n",
       "      <td>27842.320313</td>\n",
       "      <td>9200.0</td>\n",
       "      <td>recip strawberri cupcak recip kaju jeera rice ...</td>\n",
       "      <td>0.409543</td>\n",
       "      <td>0.119753</td>\n",
       "      <td>-0.9989</td>\n",
       "      <td>0.122</td>\n",
       "      <td>0.781</td>\n",
       "      <td>0.097</td>\n",
       "    </tr>\n",
       "    <tr>\n",
       "      <th>2</th>\n",
       "      <td>2015-01-06</td>\n",
       "      <td>27694.230469</td>\n",
       "      <td>27698.929688</td>\n",
       "      <td>26937.060547</td>\n",
       "      <td>26987.460938</td>\n",
       "      <td>26987.460938</td>\n",
       "      <td>14100.0</td>\n",
       "      <td>turn garden happi teeth jewelleri latest trend...</td>\n",
       "      <td>0.386223</td>\n",
       "      <td>0.046943</td>\n",
       "      <td>-0.9998</td>\n",
       "      <td>0.133</td>\n",
       "      <td>0.790</td>\n",
       "      <td>0.077</td>\n",
       "    </tr>\n",
       "    <tr>\n",
       "      <th>3</th>\n",
       "      <td>2015-01-07</td>\n",
       "      <td>26983.429688</td>\n",
       "      <td>27051.599609</td>\n",
       "      <td>26776.119141</td>\n",
       "      <td>26908.820313</td>\n",
       "      <td>26908.820313</td>\n",
       "      <td>12200.0</td>\n",
       "      <td>ex lover friend water diet bad tip stay happi ...</td>\n",
       "      <td>0.386953</td>\n",
       "      <td>0.032975</td>\n",
       "      <td>-0.9999</td>\n",
       "      <td>0.154</td>\n",
       "      <td>0.765</td>\n",
       "      <td>0.081</td>\n",
       "    </tr>\n",
       "    <tr>\n",
       "      <th>4</th>\n",
       "      <td>2015-01-08</td>\n",
       "      <td>27178.769531</td>\n",
       "      <td>27316.410156</td>\n",
       "      <td>27101.939453</td>\n",
       "      <td>27274.710938</td>\n",
       "      <td>27274.710938</td>\n",
       "      <td>8200.0</td>\n",
       "      <td>home manicur recip spice beetroot disinfect wa...</td>\n",
       "      <td>0.387770</td>\n",
       "      <td>0.076619</td>\n",
       "      <td>-0.9998</td>\n",
       "      <td>0.131</td>\n",
       "      <td>0.788</td>\n",
       "      <td>0.080</td>\n",
       "    </tr>\n",
       "    <tr>\n",
       "      <th>...</th>\n",
       "      <td>...</td>\n",
       "      <td>...</td>\n",
       "      <td>...</td>\n",
       "      <td>...</td>\n",
       "      <td>...</td>\n",
       "      <td>...</td>\n",
       "      <td>...</td>\n",
       "      <td>...</td>\n",
       "      <td>...</td>\n",
       "      <td>...</td>\n",
       "      <td>...</td>\n",
       "      <td>...</td>\n",
       "      <td>...</td>\n",
       "      <td>...</td>\n",
       "    </tr>\n",
       "    <tr>\n",
       "      <th>1219</th>\n",
       "      <td>2019-12-23</td>\n",
       "      <td>41548.261719</td>\n",
       "      <td>41701.621094</td>\n",
       "      <td>41474.609375</td>\n",
       "      <td>41642.660156</td>\n",
       "      <td>41642.660156</td>\n",
       "      <td>6200.0</td>\n",
       "      <td>weekli horoscop decemb check predict zodiac si...</td>\n",
       "      <td>0.412031</td>\n",
       "      <td>0.057669</td>\n",
       "      <td>-0.9995</td>\n",
       "      <td>0.143</td>\n",
       "      <td>0.765</td>\n",
       "      <td>0.092</td>\n",
       "    </tr>\n",
       "    <tr>\n",
       "      <th>1220</th>\n",
       "      <td>2019-12-24</td>\n",
       "      <td>41684.511719</td>\n",
       "      <td>41702.980469</td>\n",
       "      <td>41423.070313</td>\n",
       "      <td>41461.261719</td>\n",
       "      <td>41461.261719</td>\n",
       "      <td>4400.0</td>\n",
       "      <td>choker necklac make sassi throwback style rash...</td>\n",
       "      <td>0.401002</td>\n",
       "      <td>0.064272</td>\n",
       "      <td>-0.9998</td>\n",
       "      <td>0.144</td>\n",
       "      <td>0.773</td>\n",
       "      <td>0.082</td>\n",
       "    </tr>\n",
       "    <tr>\n",
       "      <th>1221</th>\n",
       "      <td>2019-12-26</td>\n",
       "      <td>41543.800781</td>\n",
       "      <td>41543.800781</td>\n",
       "      <td>41132.890625</td>\n",
       "      <td>41163.761719</td>\n",
       "      <td>41163.761719</td>\n",
       "      <td>5600.0</td>\n",
       "      <td>nit develop cold storag system store fruit veg...</td>\n",
       "      <td>0.372711</td>\n",
       "      <td>0.039655</td>\n",
       "      <td>-0.9999</td>\n",
       "      <td>0.152</td>\n",
       "      <td>0.779</td>\n",
       "      <td>0.069</td>\n",
       "    </tr>\n",
       "    <tr>\n",
       "      <th>1222</th>\n",
       "      <td>2019-12-27</td>\n",
       "      <td>41297.078125</td>\n",
       "      <td>41611.269531</td>\n",
       "      <td>41264.921875</td>\n",
       "      <td>41575.140625</td>\n",
       "      <td>41575.140625</td>\n",
       "      <td>6100.0</td>\n",
       "      <td>school naintial close two day nirbhay wadhwa u...</td>\n",
       "      <td>0.357721</td>\n",
       "      <td>0.058962</td>\n",
       "      <td>-0.9999</td>\n",
       "      <td>0.179</td>\n",
       "      <td>0.756</td>\n",
       "      <td>0.065</td>\n",
       "    </tr>\n",
       "    <tr>\n",
       "      <th>1223</th>\n",
       "      <td>2019-12-30</td>\n",
       "      <td>41686.269531</td>\n",
       "      <td>41714.730469</td>\n",
       "      <td>41453.378906</td>\n",
       "      <td>41558.000000</td>\n",
       "      <td>41558.000000</td>\n",
       "      <td>5700.0</td>\n",
       "      <td>kareena kapoor holiday switzerland internet st...</td>\n",
       "      <td>0.384306</td>\n",
       "      <td>0.060182</td>\n",
       "      <td>-0.9999</td>\n",
       "      <td>0.167</td>\n",
       "      <td>0.757</td>\n",
       "      <td>0.076</td>\n",
       "    </tr>\n",
       "  </tbody>\n",
       "</table>\n",
       "<p>1224 rows × 14 columns</p>\n",
       "</div>"
      ],
      "text/plain": [
       "           Date          Open          High  ...  Negative  Neutral  Positive\n",
       "0    2015-01-02  27521.279297  27937.470703  ...     0.128    0.768     0.103\n",
       "1    2015-01-05  27978.429688  28064.490234  ...     0.122    0.781     0.097\n",
       "2    2015-01-06  27694.230469  27698.929688  ...     0.133    0.790     0.077\n",
       "3    2015-01-07  26983.429688  27051.599609  ...     0.154    0.765     0.081\n",
       "4    2015-01-08  27178.769531  27316.410156  ...     0.131    0.788     0.080\n",
       "...         ...           ...           ...  ...       ...      ...       ...\n",
       "1219 2019-12-23  41548.261719  41701.621094  ...     0.143    0.765     0.092\n",
       "1220 2019-12-24  41684.511719  41702.980469  ...     0.144    0.773     0.082\n",
       "1221 2019-12-26  41543.800781  41543.800781  ...     0.152    0.779     0.069\n",
       "1222 2019-12-27  41297.078125  41611.269531  ...     0.179    0.756     0.065\n",
       "1223 2019-12-30  41686.269531  41714.730469  ...     0.167    0.757     0.076\n",
       "\n",
       "[1224 rows x 14 columns]"
      ]
     },
     "execution_count": 56,
     "metadata": {
      "tags": []
     },
     "output_type": "execute_result"
    }
   ],
   "source": [
    "df_merge = pd.merge(df_prices, df_news, how='inner', on='Date')\n",
    "df_merge"
   ]
  },
  {
   "cell_type": "code",
   "execution_count": 57,
   "metadata": {
    "colab": {
     "base_uri": "https://localhost:8080/",
     "height": 419
    },
    "id": "Ju9y5HJ4Fe8P",
    "outputId": "7751ee51-e543-42c0-a1e5-eab1770570dd"
   },
   "outputs": [
    {
     "data": {
      "text/html": [
       "<div>\n",
       "<style scoped>\n",
       "    .dataframe tbody tr th:only-of-type {\n",
       "        vertical-align: middle;\n",
       "    }\n",
       "\n",
       "    .dataframe tbody tr th {\n",
       "        vertical-align: top;\n",
       "    }\n",
       "\n",
       "    .dataframe thead th {\n",
       "        text-align: right;\n",
       "    }\n",
       "</style>\n",
       "<table border=\"1\" class=\"dataframe\">\n",
       "  <thead>\n",
       "    <tr style=\"text-align: right;\">\n",
       "      <th></th>\n",
       "      <th>Close</th>\n",
       "      <th>Subjectivity</th>\n",
       "      <th>Polarity</th>\n",
       "      <th>Compound</th>\n",
       "      <th>Negative</th>\n",
       "      <th>Neutral</th>\n",
       "      <th>Positive</th>\n",
       "    </tr>\n",
       "  </thead>\n",
       "  <tbody>\n",
       "    <tr>\n",
       "      <th>0</th>\n",
       "      <td>27887.900391</td>\n",
       "      <td>0.427002</td>\n",
       "      <td>0.059439</td>\n",
       "      <td>-0.9991</td>\n",
       "      <td>0.128</td>\n",
       "      <td>0.768</td>\n",
       "      <td>0.103</td>\n",
       "    </tr>\n",
       "    <tr>\n",
       "      <th>1</th>\n",
       "      <td>27842.320313</td>\n",
       "      <td>0.409543</td>\n",
       "      <td>0.119753</td>\n",
       "      <td>-0.9989</td>\n",
       "      <td>0.122</td>\n",
       "      <td>0.781</td>\n",
       "      <td>0.097</td>\n",
       "    </tr>\n",
       "    <tr>\n",
       "      <th>2</th>\n",
       "      <td>26987.460938</td>\n",
       "      <td>0.386223</td>\n",
       "      <td>0.046943</td>\n",
       "      <td>-0.9998</td>\n",
       "      <td>0.133</td>\n",
       "      <td>0.790</td>\n",
       "      <td>0.077</td>\n",
       "    </tr>\n",
       "    <tr>\n",
       "      <th>3</th>\n",
       "      <td>26908.820313</td>\n",
       "      <td>0.386953</td>\n",
       "      <td>0.032975</td>\n",
       "      <td>-0.9999</td>\n",
       "      <td>0.154</td>\n",
       "      <td>0.765</td>\n",
       "      <td>0.081</td>\n",
       "    </tr>\n",
       "    <tr>\n",
       "      <th>4</th>\n",
       "      <td>27274.710938</td>\n",
       "      <td>0.387770</td>\n",
       "      <td>0.076619</td>\n",
       "      <td>-0.9998</td>\n",
       "      <td>0.131</td>\n",
       "      <td>0.788</td>\n",
       "      <td>0.080</td>\n",
       "    </tr>\n",
       "    <tr>\n",
       "      <th>...</th>\n",
       "      <td>...</td>\n",
       "      <td>...</td>\n",
       "      <td>...</td>\n",
       "      <td>...</td>\n",
       "      <td>...</td>\n",
       "      <td>...</td>\n",
       "      <td>...</td>\n",
       "    </tr>\n",
       "    <tr>\n",
       "      <th>1219</th>\n",
       "      <td>41642.660156</td>\n",
       "      <td>0.412031</td>\n",
       "      <td>0.057669</td>\n",
       "      <td>-0.9995</td>\n",
       "      <td>0.143</td>\n",
       "      <td>0.765</td>\n",
       "      <td>0.092</td>\n",
       "    </tr>\n",
       "    <tr>\n",
       "      <th>1220</th>\n",
       "      <td>41461.261719</td>\n",
       "      <td>0.401002</td>\n",
       "      <td>0.064272</td>\n",
       "      <td>-0.9998</td>\n",
       "      <td>0.144</td>\n",
       "      <td>0.773</td>\n",
       "      <td>0.082</td>\n",
       "    </tr>\n",
       "    <tr>\n",
       "      <th>1221</th>\n",
       "      <td>41163.761719</td>\n",
       "      <td>0.372711</td>\n",
       "      <td>0.039655</td>\n",
       "      <td>-0.9999</td>\n",
       "      <td>0.152</td>\n",
       "      <td>0.779</td>\n",
       "      <td>0.069</td>\n",
       "    </tr>\n",
       "    <tr>\n",
       "      <th>1222</th>\n",
       "      <td>41575.140625</td>\n",
       "      <td>0.357721</td>\n",
       "      <td>0.058962</td>\n",
       "      <td>-0.9999</td>\n",
       "      <td>0.179</td>\n",
       "      <td>0.756</td>\n",
       "      <td>0.065</td>\n",
       "    </tr>\n",
       "    <tr>\n",
       "      <th>1223</th>\n",
       "      <td>41558.000000</td>\n",
       "      <td>0.384306</td>\n",
       "      <td>0.060182</td>\n",
       "      <td>-0.9999</td>\n",
       "      <td>0.167</td>\n",
       "      <td>0.757</td>\n",
       "      <td>0.076</td>\n",
       "    </tr>\n",
       "  </tbody>\n",
       "</table>\n",
       "<p>1224 rows × 7 columns</p>\n",
       "</div>"
      ],
      "text/plain": [
       "             Close  Subjectivity  Polarity  ...  Negative  Neutral  Positive\n",
       "0     27887.900391      0.427002  0.059439  ...     0.128    0.768     0.103\n",
       "1     27842.320313      0.409543  0.119753  ...     0.122    0.781     0.097\n",
       "2     26987.460938      0.386223  0.046943  ...     0.133    0.790     0.077\n",
       "3     26908.820313      0.386953  0.032975  ...     0.154    0.765     0.081\n",
       "4     27274.710938      0.387770  0.076619  ...     0.131    0.788     0.080\n",
       "...            ...           ...       ...  ...       ...      ...       ...\n",
       "1219  41642.660156      0.412031  0.057669  ...     0.143    0.765     0.092\n",
       "1220  41461.261719      0.401002  0.064272  ...     0.144    0.773     0.082\n",
       "1221  41163.761719      0.372711  0.039655  ...     0.152    0.779     0.069\n",
       "1222  41575.140625      0.357721  0.058962  ...     0.179    0.756     0.065\n",
       "1223  41558.000000      0.384306  0.060182  ...     0.167    0.757     0.076\n",
       "\n",
       "[1224 rows x 7 columns]"
      ]
     },
     "execution_count": 57,
     "metadata": {
      "tags": []
     },
     "output_type": "execute_result"
    }
   ],
   "source": [
    "df = df_merge[['Close','Subjectivity', 'Polarity', 'Compound', 'Negative', 'Neutral' ,'Positive']]\n",
    "df"
   ]
  },
  {
   "cell_type": "code",
   "execution_count": 58,
   "metadata": {
    "colab": {
     "base_uri": "https://localhost:8080/",
     "height": 204
    },
    "id": "9cr5VpvHxOHV",
    "outputId": "0572f964-b3a4-49bd-b524-8ac4197cf9ae"
   },
   "outputs": [
    {
     "data": {
      "text/html": [
       "<div>\n",
       "<style scoped>\n",
       "    .dataframe tbody tr th:only-of-type {\n",
       "        vertical-align: middle;\n",
       "    }\n",
       "\n",
       "    .dataframe tbody tr th {\n",
       "        vertical-align: top;\n",
       "    }\n",
       "\n",
       "    .dataframe thead th {\n",
       "        text-align: right;\n",
       "    }\n",
       "</style>\n",
       "<table border=\"1\" class=\"dataframe\">\n",
       "  <thead>\n",
       "    <tr style=\"text-align: right;\">\n",
       "      <th></th>\n",
       "      <th>Close</th>\n",
       "      <th>Subjectivity</th>\n",
       "      <th>Polarity</th>\n",
       "      <th>Compound</th>\n",
       "      <th>Negative</th>\n",
       "      <th>Neutral</th>\n",
       "      <th>Positive</th>\n",
       "    </tr>\n",
       "  </thead>\n",
       "  <tbody>\n",
       "    <tr>\n",
       "      <th>0</th>\n",
       "      <td>0.263542</td>\n",
       "      <td>0.467934</td>\n",
       "      <td>0.228278</td>\n",
       "      <td>0.00045</td>\n",
       "      <td>0.361702</td>\n",
       "      <td>0.444444</td>\n",
       "      <td>0.478261</td>\n",
       "    </tr>\n",
       "    <tr>\n",
       "      <th>1</th>\n",
       "      <td>0.261109</td>\n",
       "      <td>0.387016</td>\n",
       "      <td>0.417200</td>\n",
       "      <td>0.00055</td>\n",
       "      <td>0.297872</td>\n",
       "      <td>0.588889</td>\n",
       "      <td>0.413043</td>\n",
       "    </tr>\n",
       "    <tr>\n",
       "      <th>2</th>\n",
       "      <td>0.215467</td>\n",
       "      <td>0.278933</td>\n",
       "      <td>0.189137</td>\n",
       "      <td>0.00010</td>\n",
       "      <td>0.414894</td>\n",
       "      <td>0.688889</td>\n",
       "      <td>0.195652</td>\n",
       "    </tr>\n",
       "    <tr>\n",
       "      <th>3</th>\n",
       "      <td>0.211268</td>\n",
       "      <td>0.282318</td>\n",
       "      <td>0.145385</td>\n",
       "      <td>0.00005</td>\n",
       "      <td>0.638298</td>\n",
       "      <td>0.411111</td>\n",
       "      <td>0.239130</td>\n",
       "    </tr>\n",
       "    <tr>\n",
       "      <th>4</th>\n",
       "      <td>0.230803</td>\n",
       "      <td>0.286106</td>\n",
       "      <td>0.282091</td>\n",
       "      <td>0.00010</td>\n",
       "      <td>0.393617</td>\n",
       "      <td>0.666667</td>\n",
       "      <td>0.228261</td>\n",
       "    </tr>\n",
       "  </tbody>\n",
       "</table>\n",
       "</div>"
      ],
      "text/plain": [
       "      Close  Subjectivity  Polarity  Compound  Negative   Neutral  Positive\n",
       "0  0.263542      0.467934  0.228278   0.00045  0.361702  0.444444  0.478261\n",
       "1  0.261109      0.387016  0.417200   0.00055  0.297872  0.588889  0.413043\n",
       "2  0.215467      0.278933  0.189137   0.00010  0.414894  0.688889  0.195652\n",
       "3  0.211268      0.282318  0.145385   0.00005  0.638298  0.411111  0.239130\n",
       "4  0.230803      0.286106  0.282091   0.00010  0.393617  0.666667  0.228261"
      ]
     },
     "execution_count": 58,
     "metadata": {
      "tags": []
     },
     "output_type": "execute_result"
    }
   ],
   "source": [
    "from sklearn.preprocessing import MinMaxScaler\n",
    "sc = MinMaxScaler()\n",
    "new_df = pd.DataFrame(sc.fit_transform(df))\n",
    "new_df.columns = df.columns\n",
    "new_df.index = df.index\n",
    "new_df.head()"
   ]
  },
  {
   "cell_type": "code",
   "execution_count": 59,
   "metadata": {
    "id": "8YshU5poFne8"
   },
   "outputs": [],
   "source": [
    "X = new_df.drop('Close', axis=1)\n",
    "y =new_df['Close']"
   ]
  },
  {
   "cell_type": "code",
   "execution_count": 60,
   "metadata": {
    "colab": {
     "base_uri": "https://localhost:8080/",
     "height": 204
    },
    "id": "qVA12l3w1SoS",
    "outputId": "2eff1014-fbb8-4ad0-d1c5-ea8c1761ec6c"
   },
   "outputs": [
    {
     "data": {
      "text/html": [
       "<div>\n",
       "<style scoped>\n",
       "    .dataframe tbody tr th:only-of-type {\n",
       "        vertical-align: middle;\n",
       "    }\n",
       "\n",
       "    .dataframe tbody tr th {\n",
       "        vertical-align: top;\n",
       "    }\n",
       "\n",
       "    .dataframe thead th {\n",
       "        text-align: right;\n",
       "    }\n",
       "</style>\n",
       "<table border=\"1\" class=\"dataframe\">\n",
       "  <thead>\n",
       "    <tr style=\"text-align: right;\">\n",
       "      <th></th>\n",
       "      <th>Subjectivity</th>\n",
       "      <th>Polarity</th>\n",
       "      <th>Compound</th>\n",
       "      <th>Negative</th>\n",
       "      <th>Neutral</th>\n",
       "      <th>Positive</th>\n",
       "    </tr>\n",
       "  </thead>\n",
       "  <tbody>\n",
       "    <tr>\n",
       "      <th>0</th>\n",
       "      <td>0.467934</td>\n",
       "      <td>0.228278</td>\n",
       "      <td>0.00045</td>\n",
       "      <td>0.361702</td>\n",
       "      <td>0.444444</td>\n",
       "      <td>0.478261</td>\n",
       "    </tr>\n",
       "    <tr>\n",
       "      <th>1</th>\n",
       "      <td>0.387016</td>\n",
       "      <td>0.417200</td>\n",
       "      <td>0.00055</td>\n",
       "      <td>0.297872</td>\n",
       "      <td>0.588889</td>\n",
       "      <td>0.413043</td>\n",
       "    </tr>\n",
       "    <tr>\n",
       "      <th>2</th>\n",
       "      <td>0.278933</td>\n",
       "      <td>0.189137</td>\n",
       "      <td>0.00010</td>\n",
       "      <td>0.414894</td>\n",
       "      <td>0.688889</td>\n",
       "      <td>0.195652</td>\n",
       "    </tr>\n",
       "    <tr>\n",
       "      <th>3</th>\n",
       "      <td>0.282318</td>\n",
       "      <td>0.145385</td>\n",
       "      <td>0.00005</td>\n",
       "      <td>0.638298</td>\n",
       "      <td>0.411111</td>\n",
       "      <td>0.239130</td>\n",
       "    </tr>\n",
       "    <tr>\n",
       "      <th>4</th>\n",
       "      <td>0.286106</td>\n",
       "      <td>0.282091</td>\n",
       "      <td>0.00010</td>\n",
       "      <td>0.393617</td>\n",
       "      <td>0.666667</td>\n",
       "      <td>0.228261</td>\n",
       "    </tr>\n",
       "  </tbody>\n",
       "</table>\n",
       "</div>"
      ],
      "text/plain": [
       "   Subjectivity  Polarity  Compound  Negative   Neutral  Positive\n",
       "0      0.467934  0.228278   0.00045  0.361702  0.444444  0.478261\n",
       "1      0.387016  0.417200   0.00055  0.297872  0.588889  0.413043\n",
       "2      0.278933  0.189137   0.00010  0.414894  0.688889  0.195652\n",
       "3      0.282318  0.145385   0.00005  0.638298  0.411111  0.239130\n",
       "4      0.286106  0.282091   0.00010  0.393617  0.666667  0.228261"
      ]
     },
     "execution_count": 60,
     "metadata": {
      "tags": []
     },
     "output_type": "execute_result"
    }
   ],
   "source": [
    "X.head()"
   ]
  },
  {
   "cell_type": "code",
   "execution_count": 61,
   "metadata": {
    "colab": {
     "base_uri": "https://localhost:8080/",
     "height": 34
    },
    "id": "SywSn2Zpxv_0",
    "outputId": "dea48c8b-dda8-46c0-f74d-41f9fa3e89be"
   },
   "outputs": [
    {
     "data": {
      "text/plain": [
       "(979, 6)"
      ]
     },
     "execution_count": 61,
     "metadata": {
      "tags": []
     },
     "output_type": "execute_result"
    }
   ],
   "source": [
    "x_train, x_test, y_train, y_test = train_test_split(X, y, test_size=0.2, random_state = 0)\n",
    "x_train.shape"
   ]
  },
  {
   "cell_type": "code",
   "execution_count": 62,
   "metadata": {
    "colab": {
     "base_uri": "https://localhost:8080/",
     "height": 359
    },
    "id": "Z9ITxNN41W7a",
    "outputId": "a65bb65b-6075-424a-e054-048df50e0e75"
   },
   "outputs": [
    {
     "data": {
      "text/html": [
       "<div>\n",
       "<style scoped>\n",
       "    .dataframe tbody tr th:only-of-type {\n",
       "        vertical-align: middle;\n",
       "    }\n",
       "\n",
       "    .dataframe tbody tr th {\n",
       "        vertical-align: top;\n",
       "    }\n",
       "\n",
       "    .dataframe thead th {\n",
       "        text-align: right;\n",
       "    }\n",
       "</style>\n",
       "<table border=\"1\" class=\"dataframe\">\n",
       "  <thead>\n",
       "    <tr style=\"text-align: right;\">\n",
       "      <th></th>\n",
       "      <th>Subjectivity</th>\n",
       "      <th>Polarity</th>\n",
       "      <th>Compound</th>\n",
       "      <th>Negative</th>\n",
       "      <th>Neutral</th>\n",
       "      <th>Positive</th>\n",
       "    </tr>\n",
       "  </thead>\n",
       "  <tbody>\n",
       "    <tr>\n",
       "      <th>359</th>\n",
       "      <td>0.220204</td>\n",
       "      <td>0.281086</td>\n",
       "      <td>0.00010</td>\n",
       "      <td>0.553191</td>\n",
       "      <td>0.300000</td>\n",
       "      <td>0.434783</td>\n",
       "    </tr>\n",
       "    <tr>\n",
       "      <th>743</th>\n",
       "      <td>0.358505</td>\n",
       "      <td>0.271120</td>\n",
       "      <td>0.00010</td>\n",
       "      <td>0.574468</td>\n",
       "      <td>0.333333</td>\n",
       "      <td>0.380435</td>\n",
       "    </tr>\n",
       "    <tr>\n",
       "      <th>681</th>\n",
       "      <td>0.259733</td>\n",
       "      <td>0.160630</td>\n",
       "      <td>0.00005</td>\n",
       "      <td>0.617021</td>\n",
       "      <td>0.422222</td>\n",
       "      <td>0.250000</td>\n",
       "    </tr>\n",
       "    <tr>\n",
       "      <th>901</th>\n",
       "      <td>0.307586</td>\n",
       "      <td>0.402011</td>\n",
       "      <td>0.00040</td>\n",
       "      <td>0.255319</td>\n",
       "      <td>0.622222</td>\n",
       "      <td>0.423913</td>\n",
       "    </tr>\n",
       "    <tr>\n",
       "      <th>548</th>\n",
       "      <td>0.183069</td>\n",
       "      <td>0.188262</td>\n",
       "      <td>0.00010</td>\n",
       "      <td>0.382979</td>\n",
       "      <td>0.722222</td>\n",
       "      <td>0.195652</td>\n",
       "    </tr>\n",
       "    <tr>\n",
       "      <th>904</th>\n",
       "      <td>0.015381</td>\n",
       "      <td>0.263394</td>\n",
       "      <td>0.00005</td>\n",
       "      <td>0.542553</td>\n",
       "      <td>0.511111</td>\n",
       "      <td>0.239130</td>\n",
       "    </tr>\n",
       "    <tr>\n",
       "      <th>1039</th>\n",
       "      <td>0.541122</td>\n",
       "      <td>0.543801</td>\n",
       "      <td>0.00025</td>\n",
       "      <td>0.414894</td>\n",
       "      <td>0.522222</td>\n",
       "      <td>0.358696</td>\n",
       "    </tr>\n",
       "    <tr>\n",
       "      <th>467</th>\n",
       "      <td>0.205376</td>\n",
       "      <td>0.357111</td>\n",
       "      <td>0.00005</td>\n",
       "      <td>0.638298</td>\n",
       "      <td>0.422222</td>\n",
       "      <td>0.228261</td>\n",
       "    </tr>\n",
       "    <tr>\n",
       "      <th>85</th>\n",
       "      <td>0.324463</td>\n",
       "      <td>0.347983</td>\n",
       "      <td>0.00015</td>\n",
       "      <td>0.510638</td>\n",
       "      <td>0.422222</td>\n",
       "      <td>0.358696</td>\n",
       "    </tr>\n",
       "    <tr>\n",
       "      <th>192</th>\n",
       "      <td>0.435857</td>\n",
       "      <td>0.479194</td>\n",
       "      <td>0.00065</td>\n",
       "      <td>0.340426</td>\n",
       "      <td>0.411111</td>\n",
       "      <td>0.543478</td>\n",
       "    </tr>\n",
       "  </tbody>\n",
       "</table>\n",
       "</div>"
      ],
      "text/plain": [
       "      Subjectivity  Polarity  Compound  Negative   Neutral  Positive\n",
       "359       0.220204  0.281086   0.00010  0.553191  0.300000  0.434783\n",
       "743       0.358505  0.271120   0.00010  0.574468  0.333333  0.380435\n",
       "681       0.259733  0.160630   0.00005  0.617021  0.422222  0.250000\n",
       "901       0.307586  0.402011   0.00040  0.255319  0.622222  0.423913\n",
       "548       0.183069  0.188262   0.00010  0.382979  0.722222  0.195652\n",
       "904       0.015381  0.263394   0.00005  0.542553  0.511111  0.239130\n",
       "1039      0.541122  0.543801   0.00025  0.414894  0.522222  0.358696\n",
       "467       0.205376  0.357111   0.00005  0.638298  0.422222  0.228261\n",
       "85        0.324463  0.347983   0.00015  0.510638  0.422222  0.358696\n",
       "192       0.435857  0.479194   0.00065  0.340426  0.411111  0.543478"
      ]
     },
     "execution_count": 62,
     "metadata": {
      "tags": []
     },
     "output_type": "execute_result"
    }
   ],
   "source": [
    "x_train[:10]"
   ]
  },
  {
   "cell_type": "code",
   "execution_count": 63,
   "metadata": {
    "id": "8Xb3p5PsyCxL"
   },
   "outputs": [],
   "source": [
    "rf = RandomForestRegressor()\n",
    "rf.fit(x_train, y_train)\n",
    "prediction=rf.predict(x_test)"
   ]
  },
  {
   "cell_type": "code",
   "execution_count": 64,
   "metadata": {
    "colab": {
     "base_uri": "https://localhost:8080/",
     "height": 255
    },
    "id": "QQ44SlYU0_tV",
    "outputId": "8ebe0446-762b-4ce3-c35a-ac699007e551"
   },
   "outputs": [
    {
     "name": "stdout",
     "output_type": "stream",
     "text": [
      "[0.56900133 0.65381814 0.40213346 0.41479438 0.5887583  0.52221731\n",
      " 0.57886431 0.73085042 0.59790365 0.58271874]\n",
      "853     0.658574\n",
      "5       0.240610\n",
      "912     0.788380\n",
      "124     0.280673\n",
      "998     0.720396\n",
      "941     0.593473\n",
      "1074    0.875659\n",
      "989     0.708024\n",
      "52      0.283467\n",
      "529     0.309214\n",
      "Name: Close, dtype: float64\n",
      "0.044734065297256\n"
     ]
    }
   ],
   "source": [
    "print(prediction[:10])\n",
    "print(y_test[:10])\n",
    "print(mean_squared_error(prediction,y_test))"
   ]
  },
  {
   "cell_type": "code",
   "execution_count": 65,
   "metadata": {
    "id": "nq2Ugkav6kf1"
   },
   "outputs": [],
   "source": [
    "adb = AdaBoostRegressor()\n",
    "adb.fit(x_train, y_train)\n",
    "predictions = adb.predict(x_test)"
   ]
  },
  {
   "cell_type": "code",
   "execution_count": 66,
   "metadata": {
    "colab": {
     "base_uri": "https://localhost:8080/",
     "height": 34
    },
    "id": "nkc1C3tt6wIO",
    "outputId": "75e3b1c2-299f-4c79-cb36-fed9a47f762c"
   },
   "outputs": [
    {
     "name": "stdout",
     "output_type": "stream",
     "text": [
      "0.049009608942640545\n"
     ]
    }
   ],
   "source": [
    "print(mean_squared_error(predictions, y_test))"
   ]
  },
  {
   "cell_type": "code",
   "execution_count": 67,
   "metadata": {
    "id": "eaSqTmPq29Aj"
   },
   "outputs": [],
   "source": [
    "from sklearn.tree import DecisionTreeRegressor\n",
    "dec_tree = DecisionTreeRegressor()\n",
    "dec_tree.fit(x_train, y_train)\n",
    "predictions = dec_tree.predict(x_test)"
   ]
  },
  {
   "cell_type": "code",
   "execution_count": 68,
   "metadata": {
    "colab": {
     "base_uri": "https://localhost:8080/",
     "height": 255
    },
    "id": "0duwvBkP3bdY",
    "outputId": "bff03515-d922-4072-c8af-53e491b4abef"
   },
   "outputs": [
    {
     "name": "stdout",
     "output_type": "stream",
     "text": [
      "[0.79743516 0.92551627 0.52952711 0.22954278 0.72776935 0.64877199\n",
      " 0.69289974 0.80251691 0.05927529 0.72557448]\n",
      "853     0.658574\n",
      "5       0.240610\n",
      "912     0.788380\n",
      "124     0.280673\n",
      "998     0.720396\n",
      "941     0.593473\n",
      "1074    0.875659\n",
      "989     0.708024\n",
      "52      0.283467\n",
      "529     0.309214\n",
      "Name: Close, dtype: float64\n",
      "0.09108309698560868\n"
     ]
    }
   ],
   "source": [
    "print(predictions[:10])\n",
    "print(y_test[:10])\n",
    "print(mean_squared_error(predictions,y_test))"
   ]
  },
  {
   "cell_type": "code",
   "execution_count": 69,
   "metadata": {
    "colab": {
     "base_uri": "https://localhost:8080/",
     "height": 119
    },
    "id": "RZ-BFaZP4rWA",
    "outputId": "10f37410-ae0c-4de7-db8f-83bef0ccabfe"
   },
   "outputs": [
    {
     "data": {
      "text/plain": [
       "LGBMRegressor(boosting_type='gbdt', class_weight=None, colsample_bytree=1.0,\n",
       "              importance_type='split', learning_rate=0.1, max_depth=-1,\n",
       "              min_child_samples=20, min_child_weight=0.001, min_split_gain=0.0,\n",
       "              n_estimators=100, n_jobs=-1, num_leaves=31, objective=None,\n",
       "              random_state=None, reg_alpha=0.0, reg_lambda=0.0, silent=True,\n",
       "              subsample=1.0, subsample_for_bin=200000, subsample_freq=0)"
      ]
     },
     "execution_count": 69,
     "metadata": {
      "tags": []
     },
     "output_type": "execute_result"
    }
   ],
   "source": [
    "lgb = lightgbm.LGBMRegressor()\n",
    "lgb.fit(x_train, y_train)"
   ]
  },
  {
   "cell_type": "code",
   "execution_count": 70,
   "metadata": {
    "colab": {
     "base_uri": "https://localhost:8080/",
     "height": 34
    },
    "id": "rRJ1D-ba5W7B",
    "outputId": "085ce566-a95c-4960-c39a-cd0733237b05"
   },
   "outputs": [
    {
     "name": "stdout",
     "output_type": "stream",
     "text": [
      "0.050222162630987485\n"
     ]
    }
   ],
   "source": [
    "predictions = lgb.predict(x_test)\n",
    "print(mean_squared_error(predictions,y_test))"
   ]
  },
  {
   "cell_type": "code",
   "execution_count": 71,
   "metadata": {
    "colab": {
     "base_uri": "https://localhost:8080/",
     "height": 173
    },
    "id": "OIdi44Xm5_uR",
    "outputId": "1a81aa3e-e2ce-437a-a8c8-604c9e846097"
   },
   "outputs": [
    {
     "name": "stdout",
     "output_type": "stream",
     "text": [
      "[10:50:54] WARNING: /workspace/src/objective/regression_obj.cu:152: reg:linear is now deprecated in favor of reg:squarederror.\n"
     ]
    },
    {
     "data": {
      "text/plain": [
       "XGBRegressor(base_score=0.5, booster='gbtree', colsample_bylevel=1,\n",
       "             colsample_bynode=1, colsample_bytree=1, gamma=0,\n",
       "             importance_type='gain', learning_rate=0.1, max_delta_step=0,\n",
       "             max_depth=3, min_child_weight=1, missing=None, n_estimators=100,\n",
       "             n_jobs=1, nthread=None, objective='reg:linear', random_state=0,\n",
       "             reg_alpha=0, reg_lambda=1, scale_pos_weight=1, seed=None,\n",
       "             silent=None, subsample=1, verbosity=1)"
      ]
     },
     "execution_count": 71,
     "metadata": {
      "tags": []
     },
     "output_type": "execute_result"
    }
   ],
   "source": [
    "xgb = xgboost.XGBRegressor()\n",
    "xgb.fit(x_train, y_train)"
   ]
  },
  {
   "cell_type": "code",
   "execution_count": 72,
   "metadata": {
    "colab": {
     "base_uri": "https://localhost:8080/",
     "height": 34
    },
    "id": "AxhH9EJ16Wkz",
    "outputId": "a792212f-0a8a-418d-c861-52fb7d90a654"
   },
   "outputs": [
    {
     "name": "stdout",
     "output_type": "stream",
     "text": [
      "0.043341490145982466\n"
     ]
    }
   ],
   "source": [
    "predictions = xgb.predict(x_test)\n",
    "print(mean_squared_error(predictions,y_test))"
   ]
  },
  {
   "cell_type": "markdown",
   "metadata": {
    "id": "RNeRBjhVXcIS"
   },
   "source": [
    "We observe that Xgboost model performs the best for the sentiment analysis"
   ]
  }
 ],
 "metadata": {
  "colab": {
   "authorship_tag": "ABX9TyMWRuwFeIIUnjS3bXDLUZVh",
   "collapsed_sections": [],
   "include_colab_link": true,
   "name": "Numerical and Textual Analysis of Stock Market Prices .ipynb",
   "provenance": []
  },
  "kernelspec": {
   "display_name": "Python 3 (ipykernel)",
   "language": "python",
   "name": "python3"
  },
  "language_info": {
   "codemirror_mode": {
    "name": "ipython",
    "version": 3
   },
   "file_extension": ".py",
   "mimetype": "text/x-python",
   "name": "python",
   "nbconvert_exporter": "python",
   "pygments_lexer": "ipython3",
   "version": "3.9.16"
  }
 },
 "nbformat": 4,
 "nbformat_minor": 1
}
